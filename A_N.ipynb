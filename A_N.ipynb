{
 "cells": [
  {
   "cell_type": "code",
   "execution_count": 1,
   "metadata": {},
   "outputs": [],
   "source": [
    "import numpy as np\n",
    "import tensorflow as tf\n",
    "from tensorflow.keras import layers, regularizers, initializers\n",
    "import random\n",
    "import time\n",
    "import matplotlib.pyplot as plt\n",
    "import os\n",
    "os.environ[\"KMP_DUPLICATE_LIB_OK\"]=\"TRUE\""
   ]
  },
  {
   "cell_type": "code",
   "execution_count": 2,
   "metadata": {},
   "outputs": [],
   "source": [
    "def generateAdj(N, p1, p2):\n",
    "    adj_matrix = np.eye(N)\n",
    "    for i in range(N-1):\n",
    "        for j in range(N-i-1):\n",
    "            if i < c:\n",
    "                adj_matrix[i,i+j+1] = np.random.binomial(1,p1, 1);\n",
    "            else:\n",
    "                adj_matrix[i, i + j + 1] = np.random.binomial(1, p2, 1);\n",
    "            adj_matrix[i+j+1,i] = adj_matrix[i,i+j+1];\n",
    "    return adj_matrix\n",
    "\n",
    "def l2_loss(logits, labels, mask):\n",
    "    # use l_2 loss (regression loss)\n",
    "    #loss = tf.losses.mean_squared_error (labels, logits)\n",
    "    #loss = tf.nn.l2_loss(labels - logits)\n",
    "    loss = tf.math.square(tf.norm(labels - logits, axis=1, ord=2))/2\n",
    "    # taking mean over the number of traning data\n",
    "    mask = tf.cast(mask, dtype=tf.float32)\n",
    "    mask /= tf.reduce_mean(mask)\n",
    "    loss *= mask\n",
    "    return tf.reduce_mean(loss)\n",
    "c = 100\n",
    "def generateAdj(N, p1, p2):\n",
    "    adj_matrix = np.eye(N)\n",
    "    for i in range(N-1):\n",
    "        for j in range(N-i-1):\n",
    "            if i < c:\n",
    "                adj_matrix[i,i+j+1] = np.random.binomial(1,p1, 1)\n",
    "            else:\n",
    "                adj_matrix[i, i + j + 1] = np.random.binomial(1, p2, 1)\n",
    "            adj_matrix[i+j+1,i] = adj_matrix[i,i+j+1]\n",
    "    return adj_matrix\n",
    "\n",
    "def generate_norm_adj_matrix(adj_matrix):\n",
    "    adj_matrix = adj_matrix.astype('float32')\n",
    "    deg_matrix = tf.reduce_sum(adj_matrix, axis=-1)\n",
    "    deg_group = np.array([tf.reduce_mean(deg_matrix[0:tf.cast(c-1, tf.int32)]), tf.reduce_mean(deg_matrix[tf.cast(N-c, tf.int32): N-1])])\n",
    "    norm_deg_matrix = tf.linalg.diag(1.0 / tf.sqrt(deg_matrix))\n",
    "    norm_adj_matrix = tf.matmul(norm_deg_matrix, tf.matmul(adj_matrix, norm_deg_matrix))\n",
    "    return norm_adj_matrix\n",
    "\n",
    "def generateWeight(mu, sigma, d, P):\n",
    "    # W d*P\n",
    "    return np.random.normal(mu, sigma, (d, P))\n",
    "\n",
    "def generateVeight(mu, sigma, K, P):\n",
    "    # V d*P\n",
    "    return np.random.normal(mu, sigma, (K, P))\n",
    "\n",
    "def generateC(mu, sigma, P, K):\n",
    "    # C P*K\n",
    "    return np.random.normal(mu, sigma, (P, K))\n",
    "\n",
    "def generateX(mu, sigma, N, d):\n",
    "    return np.random.normal(mu, sigma, (N, d))\n",
    "\n",
    "def generate_data(A_star, X, W, V, C, alpha):\n",
    "    # A_star N*N, X N*d, W d*p, V K*p, C p*K,\n",
    "    # node_labels = np.matmul(np.multiply(np.sin(tf.matmul(A_star, tf.matmul(X, W))),\n",
    "    #                            np.tanh(tf.matmul(A_star, tf.matmul(X, W)))), C)\n",
    "    # node_labels_F = np.matmul(np.sin(tf.matmul(A_star, tf.matmul(X, W))), C) # N*k\n",
    "    # pow(tf.matmul(A_star, tf.matmul(node_labels_F, V)), 10)\n",
    "    # # node_labels_G_F = np.matmul(np.sin(tf.matmul(A_star, tf.matmul(node_labels_F, V))), C) #N*k\n",
    "    # node_labels_G_F = np.matmul(tf.matmul(A_star, tf.matmul(node_labels_F, V))**10, C) #N*k\n",
    "    # node_labels_H = node_labels_F+ alpha * node_labels_G_F\n",
    "\n",
    "    node_labels_F = np.matmul(tf.matmul(A_star, tf.matmul(X, W)), C) # N*k\n",
    "    node_labels_G_F = np.matmul(np.multiply(np.sin(tf.matmul(A_star, tf.matmul(node_labels_F, V))),\n",
    "                                               np.tanh(tf.matmul(A_star, tf.matmul(node_labels_F, V)))), C)\n",
    "    node_labels_H = node_labels_F+ alpha * node_labels_G_F\n",
    "    return node_labels_H\n",
    "\n",
    "def createMask(index, N):\n",
    "    mask = np.zeros(N)\n",
    "    for i in index:\n",
    "        mask[i] = 1\n",
    "    return mask"
   ]
  },
  {
   "cell_type": "code",
   "execution_count": 3,
   "metadata": {},
   "outputs": [],
   "source": [
    "learning_rate = 1e-4\n",
    "\n",
    "optimizer = tf.optimizers.Adam(learning_rate)\n",
    "\n",
    "def run_optimization(node_features, node_labels, A_star, test_error):\n",
    "    # Wrap computation inside a GradientTape for automatic differentiation.\n",
    "    index_batch = set(random.sample(train_index, batch_size))\n",
    "    train_mask = createMask(index_batch, N)\n",
    "    # 产生batch数量相对应的mask矩阵\n",
    "    with tf.GradientTape() as t:\n",
    "        # Forward pass.\n",
    "        logits = cora_gnn(node_features, A_star)\n",
    "        # Compute loss.\n",
    "        loss = l2_loss(logits, node_labels, train_mask) #train_mask\n",
    "\n",
    "    # Variables to update, i.e. trainable variables.\n",
    "    variables = t.watched_variables()\n",
    "\n",
    "    # Compute gradients.\n",
    "    gradients = t.gradient(loss, variables)\n",
    "\n",
    "    # Update W and b following gradients.\n",
    "    optimizer.apply_gradients(zip(gradients, variables))\n",
    "    val_mse = l2_loss(logits, node_labels, val_mask)\n",
    "    test_mse = l2_loss(logits, node_labels, test_mask)\n",
    "    test_error.append(test_mse)\n",
    "    if epoch % 500 == 0:\n",
    "        print('Iteration', epoch, '| Training loss:', loss.numpy(), '| Val MSE:'\n",
    "                      , val_mse.numpy(), '| Test MSE', test_mse.numpy())"
   ]
  },
  {
   "cell_type": "code",
   "execution_count": 5,
   "metadata": {},
   "outputs": [],
   "source": [
    "N = 2000\n",
    "m = 100\n",
    "d = 10\n",
    "P = 10\n",
    "K = 2\n",
    "mu = 0\n",
    "sigma = 1\n",
    "\n",
    "W = generateWeight(mu, sigma, d, P)\n",
    "W = W.astype('float32')\n",
    "C = generateC(mu, sigma, P, K)\n",
    "C = C.astype('float32')\n",
    "V = generateVeight(mu, sigma, K, P)\n",
    "V = V.astype('float32')"
   ]
  },
  {
   "cell_type": "code",
   "execution_count": 6,
   "metadata": {},
   "outputs": [],
   "source": [
    "# N=500, A = 2.5"
   ]
  },
  {
   "cell_type": "code",
   "execution_count": 8,
   "metadata": {},
   "outputs": [
    {
     "data": {
      "text/plain": [
       "2.3908243"
      ]
     },
     "execution_count": 8,
     "metadata": {},
     "output_type": "execute_result"
    }
   ],
   "source": [
    "train_size = int(N*0.25)\n",
    "\n",
    "\n",
    "batch_size = 50\n",
    "random.seed(time.time())\n",
    "test_index = set(range(N))\n",
    "train_index = set(random.sample(test_index, train_size))\n",
    "index_batch = set(random.sample(train_index, batch_size))\n",
    "train_mask = createMask(index_batch, N)\n",
    "test_index.difference_update(train_index)\n",
    "\n",
    "\n",
    "val_size = int((N - train_size) / 2)\n",
    "val_index = set(random.sample(test_index, val_size))\n",
    "test_index.difference_update(val_index)\n",
    "\n",
    "val_mask = createMask(val_index, N)\n",
    "test_mask = createMask(test_index, N)\n",
    "node_features = generateX(mu, sigma, N, d)\n",
    "node_features = node_features.astype('float32')\n",
    "X = node_features\n",
    "\n",
    "adj_matrix = generateAdj(N, 0.8, 0.1)\n",
    "norm_adj_matrix = generate_norm_adj_matrix(adj_matrix)\n",
    "A_star = norm_adj_matrix\n",
    "\n",
    "\n",
    "alpha = 10\n",
    "node_labels_500_A1 = generate_data(A_star, X, W, V, C, alpha)\n",
    "colsums = []\n",
    "for i in np.arange(N):\n",
    "    v = np.sum(np.abs(A_star[:, i]))\n",
    "    colsums.append(v)\n",
    "np.max(colsums)"
   ]
  },
  {
   "cell_type": "code",
   "execution_count": 9,
   "metadata": {},
   "outputs": [
    {
     "name": "stdout",
     "output_type": "stream",
     "text": [
      "Iteration 0 | Training loss: 12.662962 | Val MSE: 11.835164 | Test MSE 12.097053\n",
      "Iteration 500 | Training loss: 0.8128103 | Val MSE: 0.793155 | Test MSE 0.7892317\n",
      "Iteration 1000 | Training loss: 0.4919023 | Val MSE: 0.584277 | Test MSE 0.59021556\n",
      "Iteration 1500 | Training loss: 0.6277887 | Val MSE: 0.4031319 | Test MSE 0.424774\n",
      "Iteration 2000 | Training loss: 0.330693 | Val MSE: 0.3197141 | Test MSE 0.3440304\n",
      "Iteration 2500 | Training loss: 0.2588489 | Val MSE: 0.27855134 | Test MSE 0.30166844\n"
     ]
    },
    {
     "data": {
      "image/png": "[encoded data removed]",
      "text/plain": [
       "<Figure size 432x288 with 1 Axes>"
      ]
     },
     "metadata": {
      "needs_background": "light"
     },
     "output_type": "display_data"
    }
   ],
   "source": [
    "hidden_units_1 = m\n",
    "hidden_units_2 = m\n",
    "layer_1 = tf.keras.layers.Dense(units=hidden_units_1, kernel_initializer=initializers.glorot_normal())\n",
    "layer_2 = tf.keras.layers.Dense(units=hidden_units_2, kernel_initializer=initializers.glorot_normal())# hidden layer: apply weights\n",
    "out = layers.Dense(K, kernel_initializer=initializers.random_normal(mean=0.0,stddev=1)\n",
    "                       ,kernel_regularizer=None)  # K (2) classes for nodes\n",
    "\n",
    "def gnn(node_features, adj_matrix, transform, activation):\n",
    "    # weight first, then aggregate neighbor features\n",
    "    #weighted_features = transform(node_features) # apply weights to node features\n",
    "    #aggregated_features = tf.matmul(adj_matrix, weighted_features) # aggregated neighbor node features\n",
    "    #return activation(aggregated_features) # apply activation function\n",
    "    # aggregate neighbor features first, then weight\n",
    "    aggregated_features = tf.matmul(adj_matrix, tf.cast(node_features, dtype=tf.float32)) # aggregated neighbor node features\n",
    "    weighted_features = transform(aggregated_features) # apply weights to node features\n",
    "    return activation(weighted_features) # apply activation function\n",
    "\n",
    "def cora_gnn(node_features, adj_matrix):\n",
    "    hidden_1 = gnn(node_features, adj_matrix, layer_1, tf.nn.relu)\n",
    "    hidden_2 = gnn(hidden_1, adj_matrix, layer_2, tf.nn.relu)\n",
    "    # hidden_2 = layers.Dropout(rate=0.4)(hidden_2)\n",
    "    # logits = gnn(hidden, adj_matrix, layer_2, tf.identity)\n",
    "    added12 = tf.keras.layers.Add()([hidden_1, hidden_2])\n",
    "    logits = tf.identity(out(added12))\n",
    "    # logits = tf.identity(out(hidden_2))\n",
    "    return logits\n",
    "\n",
    "learning_rate = 1\n",
    "test_error_500_A1 = []\n",
    "epochs = 3000\n",
    "for epoch in range(epochs):\n",
    "    run_optimization(node_features, node_labels_500_A1, A_star, test_error_500_A1)\n",
    "    if epoch % 500 == 0:\n",
    "        learning_rate = learning_rate * 0.9\n",
    "fig, ax = plt.subplots()\n",
    "line1, = ax.plot(np.log10(test_error_500_A1), label='test_error_500_A1')"
   ]
  },
  {
   "cell_type": "code",
   "execution_count": null,
   "metadata": {},
   "outputs": [],
   "source": [
    "learning_rate = 1e-2\n",
    "epochs = 2000\n",
    "for epoch in range(epochs):\n",
    "    run_optimization(node_features, node_labels_500_A1, A_star, test_error_500_A1)\n",
    "    if epoch % 500 == 0:\n",
    "        learning_rate = learning_rate * 0.9\n",
    "fig, ax = plt.subplots()\n",
    "line1, = ax.plot(np.log10(test_error_500_A1), label='test_error_20_A1')"
   ]
  },
  {
   "cell_type": "code",
   "execution_count": null,
   "metadata": {},
   "outputs": [],
   "source": [
    "#N=800,A=2.4"
   ]
  },
  {
   "cell_type": "code",
   "execution_count": 120,
   "metadata": {},
   "outputs": [
    {
     "data": {
      "text/plain": [
       "2.3970232"
      ]
     },
     "execution_count": 120,
     "metadata": {},
     "output_type": "execute_result"
    }
   ],
   "source": [
    "train_size = 800\n",
    "\n",
    "\n",
    "batch_size = 50\n",
    "random.seed(time.time())\n",
    "test_index = set(range(N))\n",
    "train_index = set(random.sample(test_index, train_size))\n",
    "index_batch = set(random.sample(train_index, batch_size))\n",
    "train_mask = createMask(index_batch, N)\n",
    "test_index.difference_update(train_index)\n",
    "\n",
    "\n",
    "val_size = int((N - train_size) / 2)\n",
    "val_index = set(random.sample(test_index, val_size))\n",
    "test_index.difference_update(val_index)\n",
    "\n",
    "val_mask = createMask(val_index, N)\n",
    "test_mask = createMask(test_index, N)\n",
    "node_features = generateX(mu, sigma, N, d)\n",
    "node_features = node_features.astype('float32')\n",
    "X = node_features\n",
    "\n",
    "adj_matrix = generateAdj(N, 0.8, 0.1)\n",
    "norm_adj_matrix = generate_norm_adj_matrix(adj_matrix)\n",
    "A_star = norm_adj_matrix\n",
    "\n",
    "\n",
    "alpha = 10\n",
    "node_labels_800_A1 = generate_data(A_star, X, W, V, C, alpha)\n",
    "colsums = []\n",
    "for i in np.arange(N):\n",
    "    v = np.sum(np.abs(A_star[:, i]))\n",
    "    colsums.append(v)\n",
    "np.max(colsums)"
   ]
  },
  {
   "cell_type": "code",
   "execution_count": 121,
   "metadata": {},
   "outputs": [
    {
     "name": "stdout",
     "output_type": "stream",
     "text": [
      "Iteration 0 | Training loss: 1.2129604 | Val MSE: 0.9527037 | Test MSE 1.0616024\n",
      "Iteration 500 | Training loss: 0.017696563 | Val MSE: 0.021162668 | Test MSE 0.024480833\n",
      "Iteration 1000 | Training loss: 0.012102404 | Val MSE: 0.018003713 | Test MSE 0.020542951\n",
      "Iteration 1500 | Training loss: 0.012256802 | Val MSE: 0.015973033 | Test MSE 0.018105034\n",
      "Iteration 2000 | Training loss: 0.010124374 | Val MSE: 0.01399734 | Test MSE 0.01599197\n",
      "Iteration 2500 | Training loss: 0.012648213 | Val MSE: 0.012169847 | Test MSE 0.0138993375\n"
     ]
    },
    {
     "data": {
      "image/png": "[encoded data removed]",
      "text/plain": [
       "<Figure size 432x288 with 1 Axes>"
      ]
     },
     "metadata": {
      "needs_background": "light"
     },
     "output_type": "display_data"
    }
   ],
   "source": [
    "hidden_units_1 = m\n",
    "hidden_units_2 = m\n",
    "layer_1 = tf.keras.layers.Dense(units=hidden_units_1, kernel_initializer=initializers.glorot_normal())\n",
    "layer_2 = tf.keras.layers.Dense(units=hidden_units_2, kernel_initializer=initializers.glorot_normal())# hidden layer: apply weights\n",
    "out = layers.Dense(K, kernel_initializer=initializers.random_normal(mean=0.0,stddev=1)\n",
    "                       ,kernel_regularizer=None)  # K (2) classes for nodes\n",
    "\n",
    "def gnn(node_features, adj_matrix, transform, activation):\n",
    "    # weight first, then aggregate neighbor features\n",
    "    #weighted_features = transform(node_features) # apply weights to node features\n",
    "    #aggregated_features = tf.matmul(adj_matrix, weighted_features) # aggregated neighbor node features\n",
    "    #return activation(aggregated_features) # apply activation function\n",
    "    # aggregate neighbor features first, then weight\n",
    "    aggregated_features = tf.matmul(adj_matrix, tf.cast(node_features, dtype=tf.float32)) # aggregated neighbor node features\n",
    "    weighted_features = transform(aggregated_features) # apply weights to node features\n",
    "    return activation(weighted_features) # apply activation function\n",
    "\n",
    "def cora_gnn(node_features, adj_matrix):\n",
    "    hidden_1 = gnn(node_features, adj_matrix, layer_1, tf.nn.relu)\n",
    "    hidden_2 = gnn(hidden_1, adj_matrix, layer_2, tf.nn.relu)\n",
    "    # hidden_2 = layers.Dropout(rate=0.4)(hidden_2)\n",
    "    # logits = gnn(hidden, adj_matrix, layer_2, tf.identity)\n",
    "    added12 = tf.keras.layers.Add()([hidden_1, hidden_2])\n",
    "    logits = tf.identity(out(added12))\n",
    "    # logits = tf.identity(out(hidden_2))\n",
    "    return logits\n",
    "\n",
    "learning_rate = 1\n",
    "test_error_800_A1 = []\n",
    "epochs = 3000\n",
    "for epoch in range(epochs):\n",
    "    run_optimization(node_features, node_labels_800_A1, A_star, test_error_800_A1)\n",
    "    if epoch % 500 == 0:\n",
    "        learning_rate = learning_rate * 0.8\n",
    "fig, ax = plt.subplots()\n",
    "line1, = ax.plot(np.log10(test_error_800_A1), label='test_error_800_A1')"
   ]
  },
  {
   "cell_type": "code",
   "execution_count": null,
   "metadata": {},
   "outputs": [],
   "source": []
  },
  {
   "cell_type": "code",
   "execution_count": null,
   "metadata": {},
   "outputs": [],
   "source": [
    "# N=1000, A=2.1"
   ]
  },
  {
   "cell_type": "code",
   "execution_count": 12,
   "metadata": {},
   "outputs": [
    {
     "data": {
      "text/plain": [
       "2.3978915"
      ]
     },
     "execution_count": 12,
     "metadata": {},
     "output_type": "execute_result"
    }
   ],
   "source": [
    "train_size = int(N*0.5)\n",
    "\n",
    "batch_size = 50\n",
    "random.seed(time.time())\n",
    "test_index = set(range(N))\n",
    "train_index = set(random.sample(test_index, train_size))\n",
    "index_batch = set(random.sample(train_index, batch_size))\n",
    "train_mask = createMask(index_batch, N)\n",
    "test_index.difference_update(train_index)\n",
    "\n",
    "random.seed(time.time())\n",
    "test_index = set(range(N))\n",
    "train_index = set(random.sample(test_index, train_size))\n",
    "val_size = int((N - train_size) / 2)\n",
    "test_index.difference_update(train_index)\n",
    "val_index = set(random.sample(test_index, val_size))\n",
    "test_index.difference_update(val_index)\n",
    "\n",
    "val_mask = createMask(val_index, N)\n",
    "test_mask = createMask(test_index, N)\n",
    "node_features = generateX(mu, sigma, N, d)\n",
    "node_features = node_features.astype('float32')\n",
    "\n",
    "adj_matrix = generateAdj(N, 0.8, 0.1)\n",
    "norm_adj_matrix = generate_norm_adj_matrix(adj_matrix)\n",
    "A_star = norm_adj_matrix\n",
    "\n",
    "X = node_features\n",
    "W = generateWeight(mu, sigma, d, P)\n",
    "W = W.astype('float32')\n",
    "C = generateC(mu, sigma, P, K)\n",
    "C = C.astype('float32')\n",
    "V = generateVeight(mu, sigma, K, P)\n",
    "V = V.astype('float32')\n",
    "\n",
    "alpha = 10\n",
    "node_labels_1000_A1 = generate_data(A_star, X, W, V, C, alpha)\n",
    "colsums = []\n",
    "for i in np.arange(N):\n",
    "    v = np.sum(np.abs(A_star[:, i]))\n",
    "    colsums.append(v)\n",
    "np.max(colsums)"
   ]
  },
  {
   "cell_type": "code",
   "execution_count": 13,
   "metadata": {},
   "outputs": [
    {
     "name": "stdout",
     "output_type": "stream",
     "text": [
      "Iteration 0 | Training loss: 2.168851 | Val MSE: 2.3260286 | Test MSE 2.1178799\n",
      "Iteration 500 | Training loss: 0.25686395 | Val MSE: 0.15487616 | Test MSE 0.15339969\n",
      "Iteration 1000 | Training loss: 0.14424145 | Val MSE: 0.13899188 | Test MSE 0.13556214\n",
      "Iteration 1500 | Training loss: 0.121857435 | Val MSE: 0.13077131 | Test MSE 0.12700991\n",
      "Iteration 2000 | Training loss: 0.10651677 | Val MSE: 0.12340461 | Test MSE 0.11843547\n",
      "Iteration 2500 | Training loss: 0.09074418 | Val MSE: 0.11590404 | Test MSE 0.10982889\n"
     ]
    },
    {
     "data": {
      "image/png": "[encoded data removed]",
      "text/plain": [
       "<Figure size 432x288 with 1 Axes>"
      ]
     },
     "metadata": {
      "needs_background": "light"
     },
     "output_type": "display_data"
    }
   ],
   "source": [
    "hidden_units_1 = m\n",
    "hidden_units_2 = m\n",
    "layer_1 = tf.keras.layers.Dense(units=hidden_units_1, kernel_initializer=initializers.glorot_normal())\n",
    "layer_2 = tf.keras.layers.Dense(units=hidden_units_2, kernel_initializer=initializers.glorot_normal())# hidden layer: apply weights\n",
    "out = layers.Dense(K, kernel_initializer=initializers.random_normal(mean=0.0,stddev=1)\n",
    "                       ,kernel_regularizer=None)  # K (2) classes for nodes\n",
    "\n",
    "def gnn(node_features, adj_matrix, transform, activation):\n",
    "    # weight first, then aggregate neighbor features\n",
    "    #weighted_features = transform(node_features) # apply weights to node features\n",
    "    #aggregated_features = tf.matmul(adj_matrix, weighted_features) # aggregated neighbor node features\n",
    "    #return activation(aggregated_features) # apply activation function\n",
    "    # aggregate neighbor features first, then weight\n",
    "    aggregated_features = tf.matmul(adj_matrix, tf.cast(node_features, dtype=tf.float32)) # aggregated neighbor node features\n",
    "    weighted_features = transform(aggregated_features) # apply weights to node features\n",
    "    return activation(weighted_features) # apply activation function\n",
    "\n",
    "def cora_gnn(node_features, adj_matrix):\n",
    "    hidden_1 = gnn(node_features, adj_matrix, layer_1, tf.nn.relu)\n",
    "    hidden_2 = gnn(hidden_1, adj_matrix, layer_2, tf.nn.relu)\n",
    "    # hidden_2 = layers.Dropout(rate=0.4)(hidden_2)\n",
    "    # logits = gnn(hidden, adj_matrix, layer_2, tf.identity)\n",
    "    added12 = tf.keras.layers.Add()([hidden_1, hidden_2])\n",
    "    logits = tf.identity(out(added12))\n",
    "    # logits = tf.identity(out(hidden_2))\n",
    "    return logits\n",
    "\n",
    "learning_rate = 1\n",
    "test_error_1000_A1 = []\n",
    "epochs = 3000\n",
    "for epoch in range(epochs):\n",
    "    run_optimization(node_features, node_labels_1000_A1, A_star, test_error_1000_A1)\n",
    "    if epoch % 500 == 0:\n",
    "        learning_rate = learning_rate * 0.9\n",
    "fig, ax = plt.subplots()\n",
    "line1, = ax.plot(np.log10(test_error_1000_A1), label='test_error_1000_A1')"
   ]
  },
  {
   "cell_type": "code",
   "execution_count": null,
   "metadata": {},
   "outputs": [],
   "source": []
  },
  {
   "cell_type": "code",
   "execution_count": 79,
   "metadata": {},
   "outputs": [
    {
     "data": {
      "text/plain": [
       "2.396648"
      ]
     },
     "execution_count": 79,
     "metadata": {},
     "output_type": "execute_result"
    }
   ],
   "source": [
    "N=2000\n",
    "train_size = int(N*0.3)\n",
    "\n",
    "batch_size = 50\n",
    "random.seed(time.time())\n",
    "test_index = set(range(N))\n",
    "train_index = set(random.sample(test_index, train_size))\n",
    "index_batch = set(random.sample(train_index, batch_size))\n",
    "train_mask = createMask(index_batch, N)\n",
    "test_index.difference_update(train_index)\n",
    "\n",
    "random.seed(time.time())\n",
    "test_index = set(range(N))\n",
    "train_index = set(random.sample(test_index, train_size))\n",
    "val_size = int((N - train_size) / 2)\n",
    "test_index.difference_update(train_index)\n",
    "val_index = set(random.sample(test_index, val_size))\n",
    "test_index.difference_update(val_index)\n",
    "\n",
    "val_mask = createMask(val_index, N)\n",
    "test_mask = createMask(test_index, N)\n",
    "node_features = generateX(mu, sigma, N, d)\n",
    "node_features = node_features.astype('float32')\n",
    "\n",
    "adj_matrix = generateAdj(N, 0.8, 0.1)\n",
    "norm_adj_matrix = generate_norm_adj_matrix(adj_matrix)\n",
    "A_star = norm_adj_matrix\n",
    "\n",
    "X = node_features\n",
    "W = generateWeight(mu, sigma, d, P)\n",
    "W = W.astype('float32')\n",
    "C = generateC(mu, sigma, P, K)\n",
    "C = C.astype('float32')\n",
    "V = generateVeight(mu, sigma, K, P)\n",
    "V = V.astype('float32')\n",
    "\n",
    "alpha = 10\n",
    "node_labels_1500_A1 = generate_data(A_star, X, W, V, C, alpha)\n",
    "colsums = []\n",
    "for i in np.arange(N):\n",
    "    v = np.sum(np.abs(A_star[:, i]))\n",
    "    colsums.append(v)\n",
    "np.max(colsums)"
   ]
  },
  {
   "cell_type": "code",
   "execution_count": 80,
   "metadata": {},
   "outputs": [
    {
     "name": "stdout",
     "output_type": "stream",
     "text": [
      "Iteration 0 | Training loss: 0.20584036 | Val MSE: 0.27547622 | Test MSE 0.28148383\n",
      "Iteration 500 | Training loss: 0.0094792135 | Val MSE: 0.011975683 | Test MSE 0.013486895\n",
      "Iteration 1000 | Training loss: 0.0128779495 | Val MSE: 0.010129669 | Test MSE 0.011459107\n",
      "Iteration 1500 | Training loss: 0.0097467005 | Val MSE: 0.008973481 | Test MSE 0.009990924\n",
      "Iteration 2000 | Training loss: 0.007951456 | Val MSE: 0.0075736693 | Test MSE 0.008551609\n",
      "Iteration 2500 | Training loss: 0.005189459 | Val MSE: 0.006433356 | Test MSE 0.0072166054\n"
     ]
    },
    {
     "data": {
      "image/png": "[encoded data removed]",
      "text/plain": [
       "<Figure size 432x288 with 1 Axes>"
      ]
     },
     "metadata": {
      "needs_background": "light"
     },
     "output_type": "display_data"
    }
   ],
   "source": [
    "hidden_units_1 = m\n",
    "hidden_units_2 = m\n",
    "layer_1 = tf.keras.layers.Dense(units=hidden_units_1, kernel_initializer=initializers.glorot_normal())\n",
    "layer_2 = tf.keras.layers.Dense(units=hidden_units_2, kernel_initializer=initializers.glorot_normal())# hidden layer: apply weights\n",
    "out = layers.Dense(K, kernel_initializer=initializers.random_normal(mean=0.0,stddev=1)\n",
    "                       ,kernel_regularizer=None)  # K (2) classes for nodes\n",
    "\n",
    "def gnn(node_features, adj_matrix, transform, activation):\n",
    "    # weight first, then aggregate neighbor features\n",
    "    #weighted_features = transform(node_features) # apply weights to node features\n",
    "    #aggregated_features = tf.matmul(adj_matrix, weighted_features) # aggregated neighbor node features\n",
    "    #return activation(aggregated_features) # apply activation function\n",
    "    # aggregate neighbor features first, then weight\n",
    "    aggregated_features = tf.matmul(adj_matrix, tf.cast(node_features, dtype=tf.float32)) # aggregated neighbor node features\n",
    "    weighted_features = transform(aggregated_features) # apply weights to node features\n",
    "    return activation(weighted_features) # apply activation function\n",
    "\n",
    "def cora_gnn(node_features, adj_matrix):\n",
    "    hidden_1 = gnn(node_features, adj_matrix, layer_1, tf.nn.relu)\n",
    "    hidden_2 = gnn(hidden_1, adj_matrix, layer_2, tf.nn.relu)\n",
    "    # hidden_2 = layers.Dropout(rate=0.4)(hidden_2)\n",
    "    # logits = gnn(hidden, adj_matrix, layer_2, tf.identity)\n",
    "    added12 = tf.keras.layers.Add()([hidden_1, hidden_2])\n",
    "    logits = tf.identity(out(added12))\n",
    "    # logits = tf.identity(out(hidden_2))\n",
    "    return logits\n",
    "\n",
    "learning_rate = 1\n",
    "test_error_1500_A1 = []\n",
    "epochs = 3000\n",
    "for epoch in range(epochs):\n",
    "    run_optimization(node_features, node_labels_1500_A1, A_star, test_error_1500_A1)\n",
    "    if epoch % 500 == 0:\n",
    "        learning_rate = learning_rate * 0.9\n",
    "fig, ax = plt.subplots()\n",
    "line1, = ax.plot(np.log10(test_error_1500_A1), label='test_error_1500_A1')"
   ]
  },
  {
   "cell_type": "code",
   "execution_count": null,
   "metadata": {},
   "outputs": [],
   "source": [
    "#N=1800 A=2.4"
   ]
  },
  {
   "cell_type": "code",
   "execution_count": 81,
   "metadata": {},
   "outputs": [
    {
     "data": {
      "text/plain": [
       "2.3866398"
      ]
     },
     "execution_count": 81,
     "metadata": {},
     "output_type": "execute_result"
    }
   ],
   "source": [
    "train_size = int(N*0.6)\n",
    "\n",
    "batch_size = 50\n",
    "random.seed(time.time())\n",
    "test_index = set(range(N))\n",
    "train_index = set(random.sample(test_index, train_size))\n",
    "index_batch = set(random.sample(train_index, batch_size))\n",
    "train_mask = createMask(index_batch, N)\n",
    "test_index.difference_update(train_index)\n",
    "\n",
    "random.seed(time.time())\n",
    "test_index = set(range(N))\n",
    "train_index = set(random.sample(test_index, train_size))\n",
    "val_size = int((N - train_size) / 2)\n",
    "test_index.difference_update(train_index)\n",
    "val_index = set(random.sample(test_index, val_size))\n",
    "test_index.difference_update(val_index)\n",
    "\n",
    "val_mask = createMask(val_index, N)\n",
    "test_mask = createMask(test_index, N)\n",
    "node_features = generateX(mu, sigma, N, d)\n",
    "node_features = node_features.astype('float32')\n",
    "\n",
    "adj_matrix = generateAdj(N, 0.8, 0.1)\n",
    "norm_adj_matrix = generate_norm_adj_matrix(adj_matrix)\n",
    "A_star = norm_adj_matrix\n",
    "\n",
    "X = node_features\n",
    "W = generateWeight(mu, sigma, d, P)\n",
    "W = W.astype('float32')\n",
    "C = generateC(mu, sigma, P, K)\n",
    "C = C.astype('float32')\n",
    "V = generateVeight(mu, sigma, K, P)\n",
    "V = V.astype('float32')\n",
    "\n",
    "alpha = 10\n",
    "node_labels_1800_A1 = generate_data(A_star, X, W, V, C, alpha)\n",
    "colsums = []\n",
    "for i in np.arange(N):\n",
    "    v = np.sum(np.abs(A_star[:, i]))\n",
    "    colsums.append(v)\n",
    "np.max(colsums)"
   ]
  },
  {
   "cell_type": "code",
   "execution_count": 82,
   "metadata": {},
   "outputs": [
    {
     "name": "stdout",
     "output_type": "stream",
     "text": [
      "Iteration 0 | Training loss: 0.54446703 | Val MSE: 0.6746005 | Test MSE 0.5966818\n",
      "Iteration 500 | Training loss: 0.009264015 | Val MSE: 0.014091601 | Test MSE 0.012561862\n",
      "Iteration 1000 | Training loss: 0.009777226 | Val MSE: 0.011722457 | Test MSE 0.010684025\n",
      "Iteration 1500 | Training loss: 0.01063966 | Val MSE: 0.010254763 | Test MSE 0.009552939\n",
      "Iteration 2000 | Training loss: 0.006867144 | Val MSE: 0.008860841 | Test MSE 0.007910802\n",
      "Iteration 2500 | Training loss: 0.0050681736 | Val MSE: 0.0074094855 | Test MSE 0.0066764546\n"
     ]
    },
    {
     "data": {
      "image/png": "[encoded data removed]",
      "text/plain": [
       "<Figure size 432x288 with 1 Axes>"
      ]
     },
     "metadata": {
      "needs_background": "light"
     },
     "output_type": "display_data"
    }
   ],
   "source": [
    "hidden_units_1 = m\n",
    "hidden_units_2 = m\n",
    "layer_1 = tf.keras.layers.Dense(units=hidden_units_1, kernel_initializer=initializers.glorot_normal())\n",
    "layer_2 = tf.keras.layers.Dense(units=hidden_units_2, kernel_initializer=initializers.glorot_normal())# hidden layer: apply weights\n",
    "out = layers.Dense(K, kernel_initializer=initializers.random_normal(mean=0.0,stddev=1)\n",
    "                       ,kernel_regularizer=None)  # K (2) classes for nodes\n",
    "\n",
    "def gnn(node_features, adj_matrix, transform, activation):\n",
    "    # weight first, then aggregate neighbor features\n",
    "    #weighted_features = transform(node_features) # apply weights to node features\n",
    "    #aggregated_features = tf.matmul(adj_matrix, weighted_features) # aggregated neighbor node features\n",
    "    #return activation(aggregated_features) # apply activation function\n",
    "    # aggregate neighbor features first, then weight\n",
    "    aggregated_features = tf.matmul(adj_matrix, tf.cast(node_features, dtype=tf.float32)) # aggregated neighbor node features\n",
    "    weighted_features = transform(aggregated_features) # apply weights to node features\n",
    "    return activation(weighted_features) # apply activation function\n",
    "\n",
    "def cora_gnn(node_features, adj_matrix):\n",
    "    hidden_1 = gnn(node_features, adj_matrix, layer_1, tf.nn.relu)\n",
    "    hidden_2 = gnn(hidden_1, adj_matrix, layer_2, tf.nn.relu)\n",
    "    # hidden_2 = layers.Dropout(rate=0.4)(hidden_2)\n",
    "    # logits = gnn(hidden, adj_matrix, layer_2, tf.identity)\n",
    "    added12 = tf.keras.layers.Add()([hidden_1, hidden_2])\n",
    "    logits = tf.identity(out(added12))\n",
    "    # logits = tf.identity(out(hidden_2))\n",
    "    return logits\n",
    "\n",
    "learning_rate = 1\n",
    "test_error_1800_A1 = []\n",
    "epochs = 3000\n",
    "for epoch in range(epochs):\n",
    "    run_optimization(node_features, node_labels_1800_A1, A_star, test_error_1800_A1)\n",
    "    if epoch % 500 == 0:\n",
    "        learning_rate = learning_rate * 0.9\n",
    "fig, ax = plt.subplots()\n",
    "line1, = ax.plot(np.log10(test_error_1800_A1), label='test_error_1800_A1')"
   ]
  },
  {
   "cell_type": "code",
   "execution_count": null,
   "metadata": {},
   "outputs": [],
   "source": [
    "#N=500, A=1.1"
   ]
  },
  {
   "cell_type": "code",
   "execution_count": 27,
   "metadata": {},
   "outputs": [
    {
     "data": {
      "text/plain": [
       "1.135402"
      ]
     },
     "execution_count": 27,
     "metadata": {},
     "output_type": "execute_result"
    }
   ],
   "source": [
    "train_size = int(N*0.25)\n",
    "\n",
    "\n",
    "batch_size = 50\n",
    "random.seed(time.time())\n",
    "test_index = set(range(N))\n",
    "train_index = set(random.sample(test_index, train_size))\n",
    "index_batch = set(random.sample(train_index, batch_size))\n",
    "train_mask = createMask(index_batch, N)\n",
    "test_index.difference_update(train_index)\n",
    "\n",
    "\n",
    "val_size = int((N - train_size) / 2)\n",
    "val_index = set(random.sample(test_index, val_size))\n",
    "test_index.difference_update(val_index)\n",
    "\n",
    "val_mask = createMask(val_index, N)\n",
    "test_mask = createMask(test_index, N)\n",
    "node_features = generateX(mu, sigma, N, d)\n",
    "node_features = node_features.astype('float32')\n",
    "X = node_features\n",
    "\n",
    "adj_matrix = generateAdj(N, 0.5, 0.4)\n",
    "norm_adj_matrix = generate_norm_adj_matrix(adj_matrix)\n",
    "A_star = norm_adj_matrix\n",
    "\n",
    "\n",
    "alpha = 10\n",
    "node_labels_500_A2 = generate_data(A_star, X, W, V, C, alpha)\n",
    "colsums = []\n",
    "for i in np.arange(N):\n",
    "    v = np.sum(np.abs(A_star[:, i]))\n",
    "    colsums.append(v)\n",
    "np.max(colsums)"
   ]
  },
  {
   "cell_type": "code",
   "execution_count": 28,
   "metadata": {},
   "outputs": [
    {
     "name": "stdout",
     "output_type": "stream",
     "text": [
      "Iteration 0 | Training loss: 5.4038887 | Val MSE: 5.403667 | Test MSE 5.4493055\n",
      "Iteration 500 | Training loss: 0.049049284 | Val MSE: 0.05260281 | Test MSE 0.048557173\n",
      "Iteration 1000 | Training loss: 0.03050996 | Val MSE: 0.038778715 | Test MSE 0.036719706\n",
      "Iteration 1500 | Training loss: 0.029990064 | Val MSE: 0.03380195 | Test MSE 0.032840677\n",
      "Iteration 2000 | Training loss: 0.034546968 | Val MSE: 0.032902688 | Test MSE 0.032402694\n",
      "Iteration 2500 | Training loss: 0.033071123 | Val MSE: 0.031669244 | Test MSE 0.031410877\n"
     ]
    },
    {
     "data": {
      "image/png": "[encoded data removed]",
      "text/plain": [
       "<Figure size 432x288 with 1 Axes>"
      ]
     },
     "metadata": {
      "needs_background": "light"
     },
     "output_type": "display_data"
    }
   ],
   "source": [
    "hidden_units_1 = m\n",
    "hidden_units_2 = m\n",
    "layer_1 = tf.keras.layers.Dense(units=hidden_units_1, kernel_initializer=initializers.glorot_normal())\n",
    "layer_2 = tf.keras.layers.Dense(units=hidden_units_2, kernel_initializer=initializers.glorot_normal())# hidden layer: apply weights\n",
    "out = layers.Dense(K, kernel_initializer=initializers.random_normal(mean=0.0,stddev=1)\n",
    "                       ,kernel_regularizer=None)  # K (2) classes for nodes\n",
    "\n",
    "def gnn(node_features, adj_matrix, transform, activation):\n",
    "    # weight first, then aggregate neighbor features\n",
    "    #weighted_features = transform(node_features) # apply weights to node features\n",
    "    #aggregated_features = tf.matmul(adj_matrix, weighted_features) # aggregated neighbor node features\n",
    "    #return activation(aggregated_features) # apply activation function\n",
    "    # aggregate neighbor features first, then weight\n",
    "    aggregated_features = tf.matmul(adj_matrix, tf.cast(node_features, dtype=tf.float32)) # aggregated neighbor node features\n",
    "    weighted_features = transform(aggregated_features) # apply weights to node features\n",
    "    return activation(weighted_features) # apply activation function\n",
    "\n",
    "def cora_gnn(node_features, adj_matrix):\n",
    "    hidden_1 = gnn(node_features, adj_matrix, layer_1, tf.nn.relu)\n",
    "    hidden_2 = gnn(hidden_1, adj_matrix, layer_2, tf.nn.relu)\n",
    "    # hidden_2 = layers.Dropout(rate=0.4)(hidden_2)\n",
    "    # logits = gnn(hidden, adj_matrix, layer_2, tf.identity)\n",
    "    added12 = tf.keras.layers.Add()([hidden_1, hidden_2])\n",
    "    logits = tf.identity(out(added12))\n",
    "    # logits = tf.identity(out(hidden_2))\n",
    "    return logits\n",
    "\n",
    "learning_rate = 1\n",
    "test_error_500_A2 = []\n",
    "epochs = 3000\n",
    "for epoch in range(epochs):\n",
    "    run_optimization(node_features, node_labels_500_A2, A_star, test_error_500_A2)\n",
    "    if epoch % 500 == 0:\n",
    "        learning_rate = learning_rate * 0.9\n",
    "fig, ax = plt.subplots()\n",
    "line1, = ax.plot(np.log10(test_error_500_A2), label='test_error_500_A2')"
   ]
  },
  {
   "cell_type": "code",
   "execution_count": null,
   "metadata": {},
   "outputs": [],
   "source": [
    "#N=800,A=1.1"
   ]
  },
  {
   "cell_type": "code",
   "execution_count": 107,
   "metadata": {},
   "outputs": [
    {
     "data": {
      "text/plain": [
       "1.1382859"
      ]
     },
     "execution_count": 107,
     "metadata": {},
     "output_type": "execute_result"
    }
   ],
   "source": [
    "train_size = 800\n",
    "\n",
    "\n",
    "batch_size = 50\n",
    "random.seed(time.time())\n",
    "test_index = set(range(N))\n",
    "train_index = set(random.sample(test_index, train_size))\n",
    "index_batch = set(random.sample(train_index, batch_size))\n",
    "train_mask = createMask(index_batch, N)\n",
    "test_index.difference_update(train_index)\n",
    "\n",
    "\n",
    "val_size = int((N - train_size) / 2)\n",
    "val_index = set(random.sample(test_index, val_size))\n",
    "test_index.difference_update(val_index)\n",
    "\n",
    "val_mask = createMask(val_index, N)\n",
    "test_mask = createMask(test_index, N)\n",
    "node_features = generateX(mu, sigma, N, d)\n",
    "node_features = node_features.astype('float32')\n",
    "X = node_features\n",
    "\n",
    "adj_matrix = generateAdj(N, 0.5, 0.4)\n",
    "norm_adj_matrix = generate_norm_adj_matrix(adj_matrix)\n",
    "A_star = norm_adj_matrix\n",
    "\n",
    "\n",
    "alpha = 10\n",
    "node_labels_800_A2 = generate_data(A_star, X, W, V, C, alpha)\n",
    "colsums = []\n",
    "for i in np.arange(N):\n",
    "    v = np.sum(np.abs(A_star[:, i]))\n",
    "    colsums.append(v)\n",
    "np.max(colsums)"
   ]
  },
  {
   "cell_type": "code",
   "execution_count": 108,
   "metadata": {},
   "outputs": [
    {
     "name": "stdout",
     "output_type": "stream",
     "text": [
      "Iteration 0 | Training loss: 1.3160573 | Val MSE: 1.2537814 | Test MSE 1.2348822\n",
      "Iteration 500 | Training loss: 0.0060181827 | Val MSE: 0.0063399067 | Test MSE 0.0066073323\n",
      "Iteration 1000 | Training loss: 0.0031571724 | Val MSE: 0.0038877458 | Test MSE 0.0038561116\n",
      "Iteration 1500 | Training loss: 0.0034858333 | Val MSE: 0.0036450552 | Test MSE 0.0035774312\n",
      "Iteration 2000 | Training loss: 0.0025267447 | Val MSE: 0.003493586 | Test MSE 0.0034315945\n",
      "Iteration 2500 | Training loss: 0.0026492977 | Val MSE: 0.0032851754 | Test MSE 0.0032115562\n"
     ]
    },
    {
     "data": {
      "image/png": "[encoded data removed]",
      "text/plain": [
       "<Figure size 432x288 with 1 Axes>"
      ]
     },
     "metadata": {
      "needs_background": "light"
     },
     "output_type": "display_data"
    }
   ],
   "source": [
    "hidden_units_1 = m\n",
    "hidden_units_2 = m\n",
    "layer_1 = tf.keras.layers.Dense(units=hidden_units_1, kernel_initializer=initializers.glorot_normal())\n",
    "layer_2 = tf.keras.layers.Dense(units=hidden_units_2, kernel_initializer=initializers.glorot_normal())# hidden layer: apply weights\n",
    "out = layers.Dense(K, kernel_initializer=initializers.random_normal(mean=0.0,stddev=1)\n",
    "                       ,kernel_regularizer=None)  # K (2) classes for nodes\n",
    "\n",
    "def gnn(node_features, adj_matrix, transform, activation):\n",
    "    # weight first, then aggregate neighbor features\n",
    "    #weighted_features = transform(node_features) # apply weights to node features\n",
    "    #aggregated_features = tf.matmul(adj_matrix, weighted_features) # aggregated neighbor node features\n",
    "    #return activation(aggregated_features) # apply activation function\n",
    "    # aggregate neighbor features first, then weight\n",
    "    aggregated_features = tf.matmul(adj_matrix, tf.cast(node_features, dtype=tf.float32)) # aggregated neighbor node features\n",
    "    weighted_features = transform(aggregated_features) # apply weights to node features\n",
    "    return activation(weighted_features) # apply activation function\n",
    "\n",
    "def cora_gnn(node_features, adj_matrix):\n",
    "    hidden_1 = gnn(node_features, adj_matrix, layer_1, tf.nn.relu)\n",
    "    hidden_2 = gnn(hidden_1, adj_matrix, layer_2, tf.nn.relu)\n",
    "    # hidden_2 = layers.Dropout(rate=0.4)(hidden_2)\n",
    "    # logits = gnn(hidden, adj_matrix, layer_2, tf.identity)\n",
    "    added12 = tf.keras.layers.Add()([hidden_1, hidden_2])\n",
    "    logits = tf.identity(out(added12))\n",
    "    # logits = tf.identity(out(hidden_2))\n",
    "    return logits\n",
    "\n",
    "learning_rate = 0.1\n",
    "test_error_800_A2 = []\n",
    "epochs = 3000\n",
    "for epoch in range(epochs):\n",
    "    run_optimization(node_features, node_labels_800_A2, A_star, test_error_800_A2)\n",
    "    if epoch % 500 == 0:\n",
    "        learning_rate = learning_rate * 0.8\n",
    "fig, ax = plt.subplots()\n",
    "line1, = ax.plot(np.log10(test_error_800_A2), label='test_error_800_A2')"
   ]
  },
  {
   "cell_type": "code",
   "execution_count": 29,
   "metadata": {},
   "outputs": [],
   "source": [
    "#N=1000,A=1.1"
   ]
  },
  {
   "cell_type": "code",
   "execution_count": 44,
   "metadata": {},
   "outputs": [
    {
     "data": {
      "text/plain": [
       "1.1293275"
      ]
     },
     "execution_count": 44,
     "metadata": {},
     "output_type": "execute_result"
    }
   ],
   "source": [
    "train_size = int(N*0.5)\n",
    "\n",
    "\n",
    "batch_size = 50\n",
    "random.seed(time.time())\n",
    "test_index = set(range(N))\n",
    "train_index = set(random.sample(test_index, train_size))\n",
    "index_batch = set(random.sample(train_index, batch_size))\n",
    "train_mask = createMask(index_batch, N)\n",
    "test_index.difference_update(train_index)\n",
    "\n",
    "\n",
    "val_size = int((N - train_size) / 2)\n",
    "val_index = set(random.sample(test_index, val_size))\n",
    "test_index.difference_update(val_index)\n",
    "\n",
    "val_mask = createMask(val_index, N)\n",
    "test_mask = createMask(test_index, N)\n",
    "node_features = generateX(mu, sigma, N, d)\n",
    "node_features = node_features.astype('float32')\n",
    "X = node_features\n",
    "\n",
    "adj_matrix = generateAdj(N, 0.5, 0.4)\n",
    "norm_adj_matrix = generate_norm_adj_matrix(adj_matrix)\n",
    "A_star = norm_adj_matrix\n",
    "\n",
    "\n",
    "alpha = 10\n",
    "node_labels_1000_A2 = generate_data(A_star, X, W, V, C, alpha)\n",
    "colsums = []\n",
    "for i in np.arange(N):\n",
    "    v = np.sum(np.abs(A_star[:, i]))\n",
    "    colsums.append(v)\n",
    "np.max(colsums)"
   ]
  },
  {
   "cell_type": "code",
   "execution_count": 45,
   "metadata": {},
   "outputs": [
    {
     "name": "stdout",
     "output_type": "stream",
     "text": [
      "Iteration 0 | Training loss: 0.3562059 | Val MSE: 0.37741578 | Test MSE 0.37853852\n",
      "Iteration 500 | Training loss: 0.009308661 | Val MSE: 0.010844599 | Test MSE 0.011959925\n",
      "Iteration 1000 | Training loss: 0.007798405 | Val MSE: 0.0071997014 | Test MSE 0.007873798\n",
      "Iteration 1500 | Training loss: 0.008480254 | Val MSE: 0.006789203 | Test MSE 0.0073652905\n",
      "Iteration 2000 | Training loss: 0.008812689 | Val MSE: 0.0070185787 | Test MSE 0.007272805\n",
      "Iteration 2500 | Training loss: 0.008037864 | Val MSE: 0.006991107 | Test MSE 0.007739969\n"
     ]
    },
    {
     "data": {
      "image/png": "[encoded data removed]",
      "text/plain": [
       "<Figure size 432x288 with 1 Axes>"
      ]
     },
     "metadata": {
      "needs_background": "light"
     },
     "output_type": "display_data"
    }
   ],
   "source": [
    "hidden_units_1 = m\n",
    "hidden_units_2 = m\n",
    "layer_1 = tf.keras.layers.Dense(units=hidden_units_1, kernel_initializer=initializers.glorot_normal())\n",
    "layer_2 = tf.keras.layers.Dense(units=hidden_units_2, kernel_initializer=initializers.glorot_normal())# hidden layer: apply weights\n",
    "out = layers.Dense(K, kernel_initializer=initializers.random_normal(mean=0.0,stddev=1)\n",
    "                       ,kernel_regularizer=None)  # K (2) classes for nodes\n",
    "\n",
    "def gnn(node_features, adj_matrix, transform, activation):\n",
    "    # weight first, then aggregate neighbor features\n",
    "    #weighted_features = transform(node_features) # apply weights to node features\n",
    "    #aggregated_features = tf.matmul(adj_matrix, weighted_features) # aggregated neighbor node features\n",
    "    #return activation(aggregated_features) # apply activation function\n",
    "    # aggregate neighbor features first, then weight\n",
    "    aggregated_features = tf.matmul(adj_matrix, tf.cast(node_features, dtype=tf.float32)) # aggregated neighbor node features\n",
    "    weighted_features = transform(aggregated_features) # apply weights to node features\n",
    "    return activation(weighted_features) # apply activation function\n",
    "\n",
    "def cora_gnn(node_features, adj_matrix):\n",
    "    hidden_1 = gnn(node_features, adj_matrix, layer_1, tf.nn.relu)\n",
    "    hidden_2 = gnn(hidden_1, adj_matrix, layer_2, tf.nn.relu)\n",
    "    # hidden_2 = layers.Dropout(rate=0.4)(hidden_2)\n",
    "    # logits = gnn(hidden, adj_matrix, layer_2, tf.identity)\n",
    "    added12 = tf.keras.layers.Add()([hidden_1, hidden_2])\n",
    "    logits = tf.identity(out(added12))\n",
    "    # logits = tf.identity(out(hidden_2))\n",
    "    return logits\n",
    "\n",
    "learning_rate = 0.1\n",
    "test_error_1000_A2 = []\n",
    "epochs = 3000\n",
    "for epoch in range(epochs):\n",
    "    run_optimization(node_features, node_labels_1000_A2, A_star, test_error_1000_A2)\n",
    "    if epoch % 500 == 0:\n",
    "        learning_rate = learning_rate * 0.8\n",
    "fig, ax = plt.subplots()\n",
    "line1, = ax.plot(np.log10(test_error_1000_A2), label='test_error_1000_A2')"
   ]
  },
  {
   "cell_type": "code",
   "execution_count": null,
   "metadata": {},
   "outputs": [],
   "source": [
    "#N=1500,A=1.1"
   ]
  },
  {
   "cell_type": "code",
   "execution_count": 83,
   "metadata": {},
   "outputs": [
    {
     "data": {
      "text/plain": [
       "1.1351804"
      ]
     },
     "execution_count": 83,
     "metadata": {},
     "output_type": "execute_result"
    }
   ],
   "source": [
    "train_size = int(N*0.3)\n",
    "\n",
    "\n",
    "batch_size = 50\n",
    "random.seed(time.time())\n",
    "test_index = set(range(N))\n",
    "train_index = set(random.sample(test_index, train_size))\n",
    "index_batch = set(random.sample(train_index, batch_size))\n",
    "train_mask = createMask(index_batch, N)\n",
    "test_index.difference_update(train_index)\n",
    "\n",
    "\n",
    "val_size = int((N - train_size) / 2)\n",
    "val_index = set(random.sample(test_index, val_size))\n",
    "test_index.difference_update(val_index)\n",
    "\n",
    "val_mask = createMask(val_index, N)\n",
    "test_mask = createMask(test_index, N)\n",
    "node_features = generateX(mu, sigma, N, d)\n",
    "node_features = node_features.astype('float32')\n",
    "X = node_features\n",
    "\n",
    "adj_matrix = generateAdj(N, 0.5, 0.4)\n",
    "norm_adj_matrix = generate_norm_adj_matrix(adj_matrix)\n",
    "A_star = norm_adj_matrix\n",
    "\n",
    "\n",
    "alpha = 10\n",
    "node_labels_1500_A2 = generate_data(A_star, X, W, V, C, alpha)\n",
    "colsums = []\n",
    "for i in np.arange(N):\n",
    "    v = np.sum(np.abs(A_star[:, i]))\n",
    "    colsums.append(v)\n",
    "np.max(colsums)"
   ]
  },
  {
   "cell_type": "code",
   "execution_count": 84,
   "metadata": {},
   "outputs": [
    {
     "name": "stdout",
     "output_type": "stream",
     "text": [
      "Iteration 0 | Training loss: 0.054895483 | Val MSE: 0.053050134 | Test MSE 0.05283994\n",
      "Iteration 500 | Training loss: 0.00061603653 | Val MSE: 0.00035033876 | Test MSE 0.00039663978\n",
      "Iteration 1000 | Training loss: 0.000179279 | Val MSE: 0.00024351248 | Test MSE 0.00027344824\n",
      "Iteration 1500 | Training loss: 0.0001995863 | Val MSE: 0.00020369861 | Test MSE 0.00022329183\n",
      "Iteration 2000 | Training loss: 0.00015219286 | Val MSE: 0.00017962354 | Test MSE 0.00019274377\n",
      "Iteration 2500 | Training loss: 0.000105348256 | Val MSE: 0.00016729394 | Test MSE 0.000174782\n"
     ]
    },
    {
     "data": {
      "image/png": "[encoded data removed]",
      "text/plain": [
       "<Figure size 432x288 with 1 Axes>"
      ]
     },
     "metadata": {
      "needs_background": "light"
     },
     "output_type": "display_data"
    }
   ],
   "source": [
    "hidden_units_1 = m\n",
    "hidden_units_2 = m\n",
    "layer_1 = tf.keras.layers.Dense(units=hidden_units_1, kernel_initializer=initializers.glorot_normal())\n",
    "layer_2 = tf.keras.layers.Dense(units=hidden_units_2, kernel_initializer=initializers.glorot_normal())# hidden layer: apply weights\n",
    "out = layers.Dense(K, kernel_initializer=initializers.random_normal(mean=0.0,stddev=1)\n",
    "                       ,kernel_regularizer=None)  # K (2) classes for nodes\n",
    "\n",
    "def gnn(node_features, adj_matrix, transform, activation):\n",
    "    # weight first, then aggregate neighbor features\n",
    "    #weighted_features = transform(node_features) # apply weights to node features\n",
    "    #aggregated_features = tf.matmul(adj_matrix, weighted_features) # aggregated neighbor node features\n",
    "    #return activation(aggregated_features) # apply activation function\n",
    "    # aggregate neighbor features first, then weight\n",
    "    aggregated_features = tf.matmul(adj_matrix, tf.cast(node_features, dtype=tf.float32)) # aggregated neighbor node features\n",
    "    weighted_features = transform(aggregated_features) # apply weights to node features\n",
    "    return activation(weighted_features) # apply activation function\n",
    "\n",
    "def cora_gnn(node_features, adj_matrix):\n",
    "    hidden_1 = gnn(node_features, adj_matrix, layer_1, tf.nn.relu)\n",
    "    hidden_2 = gnn(hidden_1, adj_matrix, layer_2, tf.nn.relu)\n",
    "    # hidden_2 = layers.Dropout(rate=0.4)(hidden_2)\n",
    "    # logits = gnn(hidden, adj_matrix, layer_2, tf.identity)\n",
    "    added12 = tf.keras.layers.Add()([hidden_1, hidden_2])\n",
    "    logits = tf.identity(out(added12))\n",
    "    # logits = tf.identity(out(hidden_2))\n",
    "    return logits\n",
    "\n",
    "learning_rate = 1\n",
    "test_error_1500_A2 = []\n",
    "epochs = 3000\n",
    "for epoch in range(epochs):\n",
    "    run_optimization(node_features, node_labels_1500_A2, A_star, test_error_1500_A2)\n",
    "    if epoch % 500 == 0:\n",
    "        learning_rate = learning_rate * 0.8\n",
    "fig, ax = plt.subplots()\n",
    "line1, = ax.plot(np.log10(test_error_1500_A2), label='test_error_1500_A2')"
   ]
  },
  {
   "cell_type": "code",
   "execution_count": null,
   "metadata": {},
   "outputs": [],
   "source": [
    "#N=1800, A=1.1"
   ]
  },
  {
   "cell_type": "code",
   "execution_count": 94,
   "metadata": {},
   "outputs": [
    {
     "data": {
      "text/plain": [
       "1.1290457"
      ]
     },
     "execution_count": 94,
     "metadata": {},
     "output_type": "execute_result"
    }
   ],
   "source": [
    "train_size = int(N*0.6)\n",
    "\n",
    "\n",
    "batch_size = 50\n",
    "random.seed(time.time())\n",
    "test_index = set(range(N))\n",
    "train_index = set(random.sample(test_index, train_size))\n",
    "index_batch = set(random.sample(train_index, batch_size))\n",
    "train_mask = createMask(index_batch, N)\n",
    "test_index.difference_update(train_index)\n",
    "\n",
    "\n",
    "val_size = int((N - train_size) / 2)\n",
    "val_index = set(random.sample(test_index, val_size))\n",
    "test_index.difference_update(val_index)\n",
    "\n",
    "val_mask = createMask(val_index, N)\n",
    "test_mask = createMask(test_index, N)\n",
    "node_features = generateX(mu, sigma, N, d)\n",
    "node_features = node_features.astype('float32')\n",
    "X = node_features\n",
    "\n",
    "adj_matrix = generateAdj(N, 0.5, 0.4)\n",
    "norm_adj_matrix = generate_norm_adj_matrix(adj_matrix)\n",
    "A_star = norm_adj_matrix\n",
    "\n",
    "\n",
    "alpha = 10\n",
    "node_labels_1800_A2 = generate_data(A_star, X, W, V, C, alpha)\n",
    "colsums = []\n",
    "for i in np.arange(N):\n",
    "    v = np.sum(np.abs(A_star[:, i]))\n",
    "    colsums.append(v)\n",
    "np.max(colsums)"
   ]
  },
  {
   "cell_type": "code",
   "execution_count": 95,
   "metadata": {},
   "outputs": [
    {
     "name": "stdout",
     "output_type": "stream",
     "text": [
      "Iteration 0 | Training loss: 0.049671847 | Val MSE: 0.04243774 | Test MSE 0.039994612\n",
      "Iteration 500 | Training loss: 0.00028331095 | Val MSE: 0.00040850893 | Test MSE 0.00034522882\n",
      "Iteration 1000 | Training loss: 0.00024174424 | Val MSE: 0.00027922034 | Test MSE 0.0002351718\n",
      "Iteration 1500 | Training loss: 0.00018029822 | Val MSE: 0.00022255487 | Test MSE 0.00019179854\n",
      "Iteration 2000 | Training loss: 9.682104e-05 | Val MSE: 0.00018609839 | Test MSE 0.00016378296\n",
      "Iteration 2500 | Training loss: 0.00012825476 | Val MSE: 0.00015567942 | Test MSE 0.00014643441\n"
     ]
    },
    {
     "data": {
      "image/png": "[encoded data removed]",
      "text/plain": [
       "<Figure size 432x288 with 1 Axes>"
      ]
     },
     "metadata": {
      "needs_background": "light"
     },
     "output_type": "display_data"
    }
   ],
   "source": [
    "hidden_units_1 = m\n",
    "hidden_units_2 = m\n",
    "layer_1 = tf.keras.layers.Dense(units=hidden_units_1, kernel_initializer=initializers.glorot_normal())\n",
    "layer_2 = tf.keras.layers.Dense(units=hidden_units_2, kernel_initializer=initializers.glorot_normal())# hidden layer: apply weights\n",
    "out = layers.Dense(K, kernel_initializer=initializers.random_normal(mean=0.0,stddev=1)\n",
    "                       ,kernel_regularizer=None)  # K (2) classes for nodes\n",
    "\n",
    "def gnn(node_features, adj_matrix, transform, activation):\n",
    "    # weight first, then aggregate neighbor features\n",
    "    #weighted_features = transform(node_features) # apply weights to node features\n",
    "    #aggregated_features = tf.matmul(adj_matrix, weighted_features) # aggregated neighbor node features\n",
    "    #return activation(aggregated_features) # apply activation function\n",
    "    # aggregate neighbor features first, then weight\n",
    "    aggregated_features = tf.matmul(adj_matrix, tf.cast(node_features, dtype=tf.float32)) # aggregated neighbor node features\n",
    "    weighted_features = transform(aggregated_features) # apply weights to node features\n",
    "    return activation(weighted_features) # apply activation function\n",
    "\n",
    "def cora_gnn(node_features, adj_matrix):\n",
    "    hidden_1 = gnn(node_features, adj_matrix, layer_1, tf.nn.relu)\n",
    "    hidden_2 = gnn(hidden_1, adj_matrix, layer_2, tf.nn.relu)\n",
    "    # hidden_2 = layers.Dropout(rate=0.4)(hidden_2)\n",
    "    # logits = gnn(hidden, adj_matrix, layer_2, tf.identity)\n",
    "    added12 = tf.keras.layers.Add()([hidden_1, hidden_2])\n",
    "    logits = tf.identity(out(added12))\n",
    "    # logits = tf.identity(out(hidden_2))\n",
    "    return logits\n",
    "\n",
    "learning_rate = 1\n",
    "test_error_1800_A2 = []\n",
    "epochs = 3000\n",
    "for epoch in range(epochs):\n",
    "    run_optimization(node_features, node_labels_1800_A2, A_star, test_error_1800_A2)\n",
    "    if epoch % 500 == 0:\n",
    "        learning_rate = learning_rate * 0.9\n",
    "fig, ax = plt.subplots()\n",
    "line1, = ax.plot(np.log10(test_error_1800_A2), label='test_error_1800_A2')"
   ]
  },
  {
   "cell_type": "code",
   "execution_count": null,
   "metadata": {},
   "outputs": [],
   "source": [
    "#N=500, A=2.1"
   ]
  },
  {
   "cell_type": "code",
   "execution_count": 54,
   "metadata": {},
   "outputs": [
    {
     "data": {
      "text/plain": [
       "2.123236"
      ]
     },
     "execution_count": 54,
     "metadata": {},
     "output_type": "execute_result"
    }
   ],
   "source": [
    "train_size = int(N*0.25)\n",
    "\n",
    "\n",
    "batch_size = 50\n",
    "random.seed(time.time())\n",
    "test_index = set(range(N))\n",
    "train_index = set(random.sample(test_index, train_size))\n",
    "index_batch = set(random.sample(train_index, batch_size))\n",
    "train_mask = createMask(index_batch, N)\n",
    "test_index.difference_update(train_index)\n",
    "\n",
    "\n",
    "val_size = int((N - train_size) / 2)\n",
    "val_index = set(random.sample(test_index, val_size))\n",
    "test_index.difference_update(val_index)\n",
    "\n",
    "val_mask = createMask(val_index, N)\n",
    "test_mask = createMask(test_index, N)\n",
    "node_features = generateX(mu, sigma, N, d)\n",
    "node_features = node_features.astype('float32')\n",
    "X = node_features\n",
    "\n",
    "adj_matrix = generateAdj(N, 0.8, 0.14)\n",
    "norm_adj_matrix = generate_norm_adj_matrix(adj_matrix)\n",
    "A_star = norm_adj_matrix\n",
    "\n",
    "\n",
    "alpha = 10\n",
    "node_labels_500_A3 = generate_data(A_star, X, W, V, C, alpha)\n",
    "colsums = []\n",
    "for i in np.arange(N):\n",
    "    v = np.sum(np.abs(A_star[:, i]))\n",
    "    colsums.append(v)\n",
    "np.max(colsums)"
   ]
  },
  {
   "cell_type": "code",
   "execution_count": 55,
   "metadata": {},
   "outputs": [
    {
     "name": "stdout",
     "output_type": "stream",
     "text": [
      "Iteration 0 | Training loss: 2.9964473 | Val MSE: 2.6016116 | Test MSE 2.267805\n",
      "Iteration 500 | Training loss: 0.08187641 | Val MSE: 0.089717455 | Test MSE 0.08785881\n",
      "Iteration 1000 | Training loss: 0.042355064 | Val MSE: 0.048650574 | Test MSE 0.05032924\n",
      "Iteration 1500 | Training loss: 0.035020694 | Val MSE: 0.044552445 | Test MSE 0.04616622\n",
      "Iteration 2000 | Training loss: 0.044459738 | Val MSE: 0.042286787 | Test MSE 0.043809332\n",
      "Iteration 2500 | Training loss: 0.060805406 | Val MSE: 0.039660126 | Test MSE 0.040292457\n"
     ]
    },
    {
     "data": {
      "image/png": "[encoded data removed]",
      "text/plain": [
       "<Figure size 432x288 with 1 Axes>"
      ]
     },
     "metadata": {
      "needs_background": "light"
     },
     "output_type": "display_data"
    }
   ],
   "source": [
    "hidden_units_1 = m\n",
    "hidden_units_2 = m\n",
    "layer_1 = tf.keras.layers.Dense(units=hidden_units_1, kernel_initializer=initializers.glorot_normal())\n",
    "layer_2 = tf.keras.layers.Dense(units=hidden_units_2, kernel_initializer=initializers.glorot_normal())# hidden layer: apply weights\n",
    "out = layers.Dense(K, kernel_initializer=initializers.random_normal(mean=0.0,stddev=1)\n",
    "                       ,kernel_regularizer=None)  # K (2) classes for nodes\n",
    "\n",
    "def gnn(node_features, adj_matrix, transform, activation):\n",
    "    # weight first, then aggregate neighbor features\n",
    "    #weighted_features = transform(node_features) # apply weights to node features\n",
    "    #aggregated_features = tf.matmul(adj_matrix, weighted_features) # aggregated neighbor node features\n",
    "    #return activation(aggregated_features) # apply activation function\n",
    "    # aggregate neighbor features first, then weight\n",
    "    aggregated_features = tf.matmul(adj_matrix, tf.cast(node_features, dtype=tf.float32)) # aggregated neighbor node features\n",
    "    weighted_features = transform(aggregated_features) # apply weights to node features\n",
    "    return activation(weighted_features) # apply activation function\n",
    "\n",
    "def cora_gnn(node_features, adj_matrix):\n",
    "    hidden_1 = gnn(node_features, adj_matrix, layer_1, tf.nn.relu)\n",
    "    hidden_2 = gnn(hidden_1, adj_matrix, layer_2, tf.nn.relu)\n",
    "    # hidden_2 = layers.Dropout(rate=0.4)(hidden_2)\n",
    "    # logits = gnn(hidden, adj_matrix, layer_2, tf.identity)\n",
    "    added12 = tf.keras.layers.Add()([hidden_1, hidden_2])\n",
    "    logits = tf.identity(out(added12))\n",
    "    # logits = tf.identity(out(hidden_2))\n",
    "    return logits\n",
    "\n",
    "learning_rate = 1\n",
    "test_error_500_A3 = []\n",
    "epochs = 3000\n",
    "for epoch in range(epochs):\n",
    "    run_optimization(node_features, node_labels_500_A3, A_star, test_error_500_A3)\n",
    "    if epoch % 500 == 0:\n",
    "        learning_rate = learning_rate * 0.9\n",
    "fig, ax = plt.subplots()\n",
    "line1, = ax.plot(np.log10(test_error_500_A3), label='test_error_500_A3')"
   ]
  },
  {
   "cell_type": "code",
   "execution_count": 109,
   "metadata": {},
   "outputs": [],
   "source": [
    "#N=800,A=2.1"
   ]
  },
  {
   "cell_type": "code",
   "execution_count": 110,
   "metadata": {},
   "outputs": [
    {
     "data": {
      "text/plain": [
       "2.1213486"
      ]
     },
     "execution_count": 110,
     "metadata": {},
     "output_type": "execute_result"
    }
   ],
   "source": [
    "train_size = 800\n",
    "\n",
    "\n",
    "batch_size = 50\n",
    "random.seed(time.time())\n",
    "test_index = set(range(N))\n",
    "train_index = set(random.sample(test_index, train_size))\n",
    "index_batch = set(random.sample(train_index, batch_size))\n",
    "train_mask = createMask(index_batch, N)\n",
    "test_index.difference_update(train_index)\n",
    "\n",
    "\n",
    "val_size = int((N - train_size) / 2)\n",
    "val_index = set(random.sample(test_index, val_size))\n",
    "test_index.difference_update(val_index)\n",
    "\n",
    "val_mask = createMask(val_index, N)\n",
    "test_mask = createMask(test_index, N)\n",
    "node_features = generateX(mu, sigma, N, d)\n",
    "node_features = node_features.astype('float32')\n",
    "X = node_features\n",
    "\n",
    "adj_matrix = generateAdj(N, 0.8, 0.14)\n",
    "norm_adj_matrix = generate_norm_adj_matrix(adj_matrix)\n",
    "A_star = norm_adj_matrix\n",
    "\n",
    "\n",
    "alpha = 10\n",
    "node_labels_800_A3 = generate_data(A_star, X, W, V, C, alpha)\n",
    "colsums = []\n",
    "for i in np.arange(N):\n",
    "    v = np.sum(np.abs(A_star[:, i]))\n",
    "    colsums.append(v)\n",
    "np.max(colsums)"
   ]
  },
  {
   "cell_type": "code",
   "execution_count": 111,
   "metadata": {},
   "outputs": [
    {
     "name": "stdout",
     "output_type": "stream",
     "text": [
      "Iteration 0 | Training loss: 0.58362913 | Val MSE: 0.49468967 | Test MSE 0.49943867\n",
      "Iteration 500 | Training loss: 0.020342326 | Val MSE: 0.02076266 | Test MSE 0.018265171\n",
      "Iteration 1000 | Training loss: 0.013142872 | Val MSE: 0.015733497 | Test MSE 0.013982481\n",
      "Iteration 1500 | Training loss: 0.013208945 | Val MSE: 0.013976257 | Test MSE 0.012443507\n",
      "Iteration 2000 | Training loss: 0.010455144 | Val MSE: 0.012212748 | Test MSE 0.010874941\n",
      "Iteration 2500 | Training loss: 0.008663838 | Val MSE: 0.010507462 | Test MSE 0.00946964\n"
     ]
    },
    {
     "data": {
      "image/png": "[encoded data removed]",
      "text/plain": [
       "<Figure size 432x288 with 1 Axes>"
      ]
     },
     "metadata": {
      "needs_background": "light"
     },
     "output_type": "display_data"
    }
   ],
   "source": [
    "hidden_units_1 = m\n",
    "hidden_units_2 = m\n",
    "layer_1 = tf.keras.layers.Dense(units=hidden_units_1, kernel_initializer=initializers.glorot_normal())\n",
    "layer_2 = tf.keras.layers.Dense(units=hidden_units_2, kernel_initializer=initializers.glorot_normal())# hidden layer: apply weights\n",
    "out = layers.Dense(K, kernel_initializer=initializers.random_normal(mean=0.0,stddev=1)\n",
    "                       ,kernel_regularizer=None)  # K (2) classes for nodes\n",
    "\n",
    "def gnn(node_features, adj_matrix, transform, activation):\n",
    "    # weight first, then aggregate neighbor features\n",
    "    #weighted_features = transform(node_features) # apply weights to node features\n",
    "    #aggregated_features = tf.matmul(adj_matrix, weighted_features) # aggregated neighbor node features\n",
    "    #return activation(aggregated_features) # apply activation function\n",
    "    # aggregate neighbor features first, then weight\n",
    "    aggregated_features = tf.matmul(adj_matrix, tf.cast(node_features, dtype=tf.float32)) # aggregated neighbor node features\n",
    "    weighted_features = transform(aggregated_features) # apply weights to node features\n",
    "    return activation(weighted_features) # apply activation function\n",
    "\n",
    "def cora_gnn(node_features, adj_matrix):\n",
    "    hidden_1 = gnn(node_features, adj_matrix, layer_1, tf.nn.relu)\n",
    "    hidden_2 = gnn(hidden_1, adj_matrix, layer_2, tf.nn.relu)\n",
    "    # hidden_2 = layers.Dropout(rate=0.4)(hidden_2)\n",
    "    # logits = gnn(hidden, adj_matrix, layer_2, tf.identity)\n",
    "    added12 = tf.keras.layers.Add()([hidden_1, hidden_2])\n",
    "    logits = tf.identity(out(added12))\n",
    "    # logits = tf.identity(out(hidden_2))\n",
    "    return logits\n",
    "\n",
    "learning_rate = 1\n",
    "test_error_800_A3 = []\n",
    "epochs = 3000\n",
    "for epoch in range(epochs):\n",
    "    run_optimization(node_features, node_labels_800_A3, A_star, test_error_800_A3)\n",
    "    if epoch % 500 == 0:\n",
    "        learning_rate = learning_rate * 0.9\n",
    "fig, ax = plt.subplots()\n",
    "line1, = ax.plot(np.log10(test_error_800_A3), label='test_error_800_A3')"
   ]
  },
  {
   "cell_type": "code",
   "execution_count": 59,
   "metadata": {},
   "outputs": [],
   "source": [
    "#N=1000, A=2.1"
   ]
  },
  {
   "cell_type": "code",
   "execution_count": 67,
   "metadata": {},
   "outputs": [
    {
     "data": {
      "text/plain": [
       "2.1273026"
      ]
     },
     "execution_count": 67,
     "metadata": {},
     "output_type": "execute_result"
    }
   ],
   "source": [
    "train_size = int(N*0.5)\n",
    "\n",
    "\n",
    "batch_size = 50\n",
    "random.seed(time.time())\n",
    "test_index = set(range(N))\n",
    "train_index = set(random.sample(test_index, train_size))\n",
    "index_batch = set(random.sample(train_index, batch_size))\n",
    "train_mask = createMask(index_batch, N)\n",
    "test_index.difference_update(train_index)\n",
    "\n",
    "\n",
    "val_size = int((N - train_size) / 2)\n",
    "val_index = set(random.sample(test_index, val_size))\n",
    "test_index.difference_update(val_index)\n",
    "\n",
    "val_mask = createMask(val_index, N)\n",
    "test_mask = createMask(test_index, N)\n",
    "node_features = generateX(mu, sigma, N, d)\n",
    "node_features = node_features.astype('float32')\n",
    "X = node_features\n",
    "\n",
    "adj_matrix = generateAdj(N, 0.8, 0.14)\n",
    "norm_adj_matrix = generate_norm_adj_matrix(adj_matrix)\n",
    "A_star = norm_adj_matrix\n",
    "\n",
    "\n",
    "alpha = 10\n",
    "node_labels_1000_A3 = generate_data(A_star, X, W, V, C, alpha)\n",
    "colsums = []\n",
    "for i in np.arange(N):\n",
    "    v = np.sum(np.abs(A_star[:, i]))\n",
    "    colsums.append(v)\n",
    "np.max(colsums)"
   ]
  },
  {
   "cell_type": "code",
   "execution_count": 68,
   "metadata": {},
   "outputs": [
    {
     "name": "stdout",
     "output_type": "stream",
     "text": [
      "Iteration 0 | Training loss: 0.54937124 | Val MSE: 0.5293674 | Test MSE 0.5404921\n",
      "Iteration 500 | Training loss: 0.02740959 | Val MSE: 0.028292412 | Test MSE 0.027597835\n",
      "Iteration 1000 | Training loss: 0.014146478 | Val MSE: 0.017797424 | Test MSE 0.017317982\n",
      "Iteration 1500 | Training loss: 0.02495247 | Val MSE: 0.014944895 | Test MSE 0.015021317\n",
      "Iteration 2000 | Training loss: 0.013157932 | Val MSE: 0.013324106 | Test MSE 0.013237463\n",
      "Iteration 2500 | Training loss: 0.013417804 | Val MSE: 0.011764486 | Test MSE 0.011758727\n"
     ]
    },
    {
     "data": {
      "image/png": "[encoded data removed]",
      "text/plain": [
       "<Figure size 432x288 with 1 Axes>"
      ]
     },
     "metadata": {
      "needs_background": "light"
     },
     "output_type": "display_data"
    }
   ],
   "source": [
    "hidden_units_1 = m\n",
    "hidden_units_2 = m\n",
    "layer_1 = tf.keras.layers.Dense(units=hidden_units_1, kernel_initializer=initializers.glorot_normal())\n",
    "layer_2 = tf.keras.layers.Dense(units=hidden_units_2, kernel_initializer=initializers.glorot_normal())# hidden layer: apply weights\n",
    "out = layers.Dense(K, kernel_initializer=initializers.random_normal(mean=0.0,stddev=1)\n",
    "                       ,kernel_regularizer=None)  # K (2) classes for nodes\n",
    "\n",
    "def gnn(node_features, adj_matrix, transform, activation):\n",
    "    # weight first, then aggregate neighbor features\n",
    "    #weighted_features = transform(node_features) # apply weights to node features\n",
    "    #aggregated_features = tf.matmul(adj_matrix, weighted_features) # aggregated neighbor node features\n",
    "    #return activation(aggregated_features) # apply activation function\n",
    "    # aggregate neighbor features first, then weight\n",
    "    aggregated_features = tf.matmul(adj_matrix, tf.cast(node_features, dtype=tf.float32)) # aggregated neighbor node features\n",
    "    weighted_features = transform(aggregated_features) # apply weights to node features\n",
    "    return activation(weighted_features) # apply activation function\n",
    "\n",
    "def cora_gnn(node_features, adj_matrix):\n",
    "    hidden_1 = gnn(node_features, adj_matrix, layer_1, tf.nn.relu)\n",
    "    hidden_2 = gnn(hidden_1, adj_matrix, layer_2, tf.nn.relu)\n",
    "    # hidden_2 = layers.Dropout(rate=0.4)(hidden_2)\n",
    "    # logits = gnn(hidden, adj_matrix, layer_2, tf.identity)\n",
    "    added12 = tf.keras.layers.Add()([hidden_1, hidden_2])\n",
    "    logits = tf.identity(out(added12))\n",
    "    # logits = tf.identity(out(hidden_2))\n",
    "    return logits\n",
    "\n",
    "learning_rate = 1\n",
    "test_error_1000_A3 = []\n",
    "epochs = 3000\n",
    "for epoch in range(epochs):\n",
    "    run_optimization(node_features, node_labels_1000_A3, A_star, test_error_1000_A3)\n",
    "    if epoch % 500 == 0:\n",
    "        learning_rate = learning_rate * 0.9\n",
    "fig, ax = plt.subplots()\n",
    "line1, = ax.plot(np.log10(test_error_1000_A3), label='test_error_1000_A3')"
   ]
  },
  {
   "cell_type": "code",
   "execution_count": null,
   "metadata": {},
   "outputs": [],
   "source": [
    "#N=1500, A=2.1"
   ]
  },
  {
   "cell_type": "code",
   "execution_count": 87,
   "metadata": {},
   "outputs": [
    {
     "data": {
      "text/plain": [
       "2.1167896"
      ]
     },
     "execution_count": 87,
     "metadata": {},
     "output_type": "execute_result"
    }
   ],
   "source": [
    "train_size = int(N*0.3)\n",
    "\n",
    "\n",
    "batch_size = 50\n",
    "random.seed(time.time())\n",
    "test_index = set(range(N))\n",
    "train_index = set(random.sample(test_index, train_size))\n",
    "index_batch = set(random.sample(train_index, batch_size))\n",
    "train_mask = createMask(index_batch, N)\n",
    "test_index.difference_update(train_index)\n",
    "\n",
    "\n",
    "val_size = int((N - train_size) / 2)\n",
    "val_index = set(random.sample(test_index, val_size))\n",
    "test_index.difference_update(val_index)\n",
    "\n",
    "val_mask = createMask(val_index, N)\n",
    "test_mask = createMask(test_index, N)\n",
    "node_features = generateX(mu, sigma, N, d)\n",
    "node_features = node_features.astype('float32')\n",
    "X = node_features\n",
    "\n",
    "adj_matrix = generateAdj(N, 0.8, 0.14)\n",
    "norm_adj_matrix = generate_norm_adj_matrix(adj_matrix)\n",
    "A_star = norm_adj_matrix\n",
    "\n",
    "\n",
    "alpha = 10\n",
    "node_labels_1500_A3 = generate_data(A_star, X, W, V, C, alpha)\n",
    "colsums = []\n",
    "for i in np.arange(N):\n",
    "    v = np.sum(np.abs(A_star[:, i]))\n",
    "    colsums.append(v)\n",
    "np.max(colsums)"
   ]
  },
  {
   "cell_type": "code",
   "execution_count": 88,
   "metadata": {},
   "outputs": [
    {
     "name": "stdout",
     "output_type": "stream",
     "text": [
      "Iteration 0 | Training loss: 0.0814527 | Val MSE: 0.099865526 | Test MSE 0.104498535\n",
      "Iteration 500 | Training loss: 0.0011956068 | Val MSE: 0.0022883532 | Test MSE 0.0020294762\n",
      "Iteration 1000 | Training loss: 0.0014250617 | Val MSE: 0.0018051127 | Test MSE 0.0015548505\n",
      "Iteration 1500 | Training loss: 0.00089528953 | Val MSE: 0.0015477309 | Test MSE 0.0013080173\n",
      "Iteration 2000 | Training loss: 0.0008448476 | Val MSE: 0.0013684956 | Test MSE 0.001125622\n",
      "Iteration 2500 | Training loss: 0.0008497286 | Val MSE: 0.0012179256 | Test MSE 0.000994374\n"
     ]
    },
    {
     "data": {
      "image/png": "[encoded data removed]",
      "text/plain": [
       "<Figure size 432x288 with 1 Axes>"
      ]
     },
     "metadata": {
      "needs_background": "light"
     },
     "output_type": "display_data"
    }
   ],
   "source": [
    "hidden_units_1 = m\n",
    "hidden_units_2 = m\n",
    "layer_1 = tf.keras.layers.Dense(units=hidden_units_1, kernel_initializer=initializers.glorot_normal())\n",
    "layer_2 = tf.keras.layers.Dense(units=hidden_units_2, kernel_initializer=initializers.glorot_normal())# hidden layer: apply weights\n",
    "out = layers.Dense(K, kernel_initializer=initializers.random_normal(mean=0.0,stddev=1)\n",
    "                       ,kernel_regularizer=None)  # K (2) classes for nodes\n",
    "\n",
    "def gnn(node_features, adj_matrix, transform, activation):\n",
    "    # weight first, then aggregate neighbor features\n",
    "    #weighted_features = transform(node_features) # apply weights to node features\n",
    "    #aggregated_features = tf.matmul(adj_matrix, weighted_features) # aggregated neighbor node features\n",
    "    #return activation(aggregated_features) # apply activation function\n",
    "    # aggregate neighbor features first, then weight\n",
    "    aggregated_features = tf.matmul(adj_matrix, tf.cast(node_features, dtype=tf.float32)) # aggregated neighbor node features\n",
    "    weighted_features = transform(aggregated_features) # apply weights to node features\n",
    "    return activation(weighted_features) # apply activation function\n",
    "\n",
    "def cora_gnn(node_features, adj_matrix):\n",
    "    hidden_1 = gnn(node_features, adj_matrix, layer_1, tf.nn.relu)\n",
    "    hidden_2 = gnn(hidden_1, adj_matrix, layer_2, tf.nn.relu)\n",
    "    # hidden_2 = layers.Dropout(rate=0.4)(hidden_2)\n",
    "    # logits = gnn(hidden, adj_matrix, layer_2, tf.identity)\n",
    "    added12 = tf.keras.layers.Add()([hidden_1, hidden_2])\n",
    "    logits = tf.identity(out(added12))\n",
    "    # logits = tf.identity(out(hidden_2))\n",
    "    return logits\n",
    "\n",
    "learning_rate = 1\n",
    "test_error_1500_A3 = []\n",
    "epochs = 3000\n",
    "for epoch in range(epochs):\n",
    "    run_optimization(node_features, node_labels_1500_A3, A_star, test_error_1500_A3)\n",
    "    if epoch % 500 == 0:\n",
    "        learning_rate = learning_rate * 0.9\n",
    "fig, ax = plt.subplots()\n",
    "line1, = ax.plot(np.log10(test_error_1500_A3), label='test_error_1500_A3')"
   ]
  },
  {
   "cell_type": "code",
   "execution_count": null,
   "metadata": {},
   "outputs": [],
   "source": [
    "#N=1800, A=2.1"
   ]
  },
  {
   "cell_type": "code",
   "execution_count": 89,
   "metadata": {},
   "outputs": [
    {
     "data": {
      "text/plain": [
       "2.1161716"
      ]
     },
     "execution_count": 89,
     "metadata": {},
     "output_type": "execute_result"
    }
   ],
   "source": [
    "train_size = int(N*0.6)\n",
    "\n",
    "\n",
    "batch_size = 50\n",
    "random.seed(time.time())\n",
    "test_index = set(range(N))\n",
    "train_index = set(random.sample(test_index, train_size))\n",
    "index_batch = set(random.sample(train_index, batch_size))\n",
    "train_mask = createMask(index_batch, N)\n",
    "test_index.difference_update(train_index)\n",
    "\n",
    "\n",
    "val_size = int((N - train_size) / 2)\n",
    "val_index = set(random.sample(test_index, val_size))\n",
    "test_index.difference_update(val_index)\n",
    "\n",
    "val_mask = createMask(val_index, N)\n",
    "test_mask = createMask(test_index, N)\n",
    "node_features = generateX(mu, sigma, N, d)\n",
    "node_features = node_features.astype('float32')\n",
    "X = node_features\n",
    "\n",
    "adj_matrix = generateAdj(N, 0.8, 0.14)\n",
    "norm_adj_matrix = generate_norm_adj_matrix(adj_matrix)\n",
    "A_star = norm_adj_matrix\n",
    "\n",
    "\n",
    "alpha = 10\n",
    "node_labels_1800_A3 = generate_data(A_star, X, W, V, C, alpha)\n",
    "colsums = []\n",
    "for i in np.arange(N):\n",
    "    v = np.sum(np.abs(A_star[:, i]))\n",
    "    colsums.append(v)\n",
    "np.max(colsums)"
   ]
  },
  {
   "cell_type": "code",
   "execution_count": 90,
   "metadata": {},
   "outputs": [
    {
     "name": "stdout",
     "output_type": "stream",
     "text": [
      "Iteration 0 | Training loss: 0.17401935 | Val MSE: 0.14315118 | Test MSE 0.14307001\n",
      "Iteration 500 | Training loss: 0.0008497139 | Val MSE: 0.0011672815 | Test MSE 0.0009732508\n",
      "Iteration 1000 | Training loss: 0.0007795284 | Val MSE: 0.0008260692 | Test MSE 0.0007277773\n",
      "Iteration 1500 | Training loss: 0.0006397123 | Val MSE: 0.0006143727 | Test MSE 0.00056393957\n",
      "Iteration 2000 | Training loss: 0.0002838257 | Val MSE: 0.0005144686 | Test MSE 0.0004877258\n",
      "Iteration 2500 | Training loss: 0.00030900395 | Val MSE: 0.0004420753 | Test MSE 0.00038105084\n"
     ]
    },
    {
     "data": {
      "image/png": "[encoded data removed]",
      "text/plain": [
       "<Figure size 432x288 with 1 Axes>"
      ]
     },
     "metadata": {
      "needs_background": "light"
     },
     "output_type": "display_data"
    }
   ],
   "source": [
    "hidden_units_1 = m\n",
    "hidden_units_2 = m\n",
    "layer_1 = tf.keras.layers.Dense(units=hidden_units_1, kernel_initializer=initializers.glorot_normal())\n",
    "layer_2 = tf.keras.layers.Dense(units=hidden_units_2, kernel_initializer=initializers.glorot_normal())# hidden layer: apply weights\n",
    "out = layers.Dense(K, kernel_initializer=initializers.random_normal(mean=0.0,stddev=1)\n",
    "                       ,kernel_regularizer=None)  # K (2) classes for nodes\n",
    "\n",
    "def gnn(node_features, adj_matrix, transform, activation):\n",
    "    # weight first, then aggregate neighbor features\n",
    "    #weighted_features = transform(node_features) # apply weights to node features\n",
    "    #aggregated_features = tf.matmul(adj_matrix, weighted_features) # aggregated neighbor node features\n",
    "    #return activation(aggregated_features) # apply activation function\n",
    "    # aggregate neighbor features first, then weight\n",
    "    aggregated_features = tf.matmul(adj_matrix, tf.cast(node_features, dtype=tf.float32)) # aggregated neighbor node features\n",
    "    weighted_features = transform(aggregated_features) # apply weights to node features\n",
    "    return activation(weighted_features) # apply activation function\n",
    "\n",
    "def cora_gnn(node_features, adj_matrix):\n",
    "    hidden_1 = gnn(node_features, adj_matrix, layer_1, tf.nn.relu)\n",
    "    hidden_2 = gnn(hidden_1, adj_matrix, layer_2, tf.nn.relu)\n",
    "    # hidden_2 = layers.Dropout(rate=0.4)(hidden_2)\n",
    "    # logits = gnn(hidden, adj_matrix, layer_2, tf.identity)\n",
    "    added12 = tf.keras.layers.Add()([hidden_1, hidden_2])\n",
    "    logits = tf.identity(out(added12))\n",
    "    # logits = tf.identity(out(hidden_2))\n",
    "    return logits\n",
    "\n",
    "learning_rate = 1\n",
    "test_error_1800_A3 = []\n",
    "epochs = 3000\n",
    "for epoch in range(epochs):\n",
    "    run_optimization(node_features, node_labels_1800_A3, A_star, test_error_1800_A3)\n",
    "    if epoch % 500 == 0:\n",
    "        learning_rate = learning_rate * 0.9\n",
    "fig, ax = plt.subplots()\n",
    "line1, = ax.plot(np.log10(test_error_1800_A3), label='test_error_1500_A3')"
   ]
  },
  {
   "cell_type": "code",
   "execution_count": 118,
   "metadata": {},
   "outputs": [],
   "source": [
    "# output"
   ]
  },
  {
   "cell_type": "code",
   "execution_count": 124,
   "metadata": {},
   "outputs": [
    {
     "data": {
      "image/png": "[encoded data removed]",
      "text/plain": [
       "<Figure size 432x288 with 1 Axes>"
      ]
     },
     "metadata": {
      "needs_background": "light"
     },
     "output_type": "display_data"
    }
   ],
   "source": [
    "N1 = [ 500, 600, 800, 1000, 1200]\n",
    "test_A1 = [np.mean(test_error_500_A1[-100:-1]),np.mean(test_error_800_A1[-100:-1]),np.mean(test_error_1000_A1[-100:-1]),test_error_1500_A1[-1],np.mean(test_error_1800_A1[-100:-1])]\n",
    "test_A2 = [np.mean(test_error_500_A2[-100:-1]),np.mean(test_error_800_A2[-100:-1]),np.mean(test_error_1000_A2[-100:-1]),test_error_1500_A2[-1],np.mean(test_error_1800_A2[-1])]\n",
    "test_A3 = [np.mean(test_error_500_A3[-100:-1]),np.mean(test_error_800_A3[-100:-1]),np.mean(test_error_1000_A3[-100:-1]),test_error_1500_A3[-1],np.mean(test_error_1800_A3[-100:-1])]\n",
    "fig, ax = plt.subplots()\n",
    "\n",
    "line1, = ax.plot(N1, test_A1, label=r'$||A^*||_1=2.4$',color='g', marker='.', markevery=1, linewidth=2, markersize=12)\n",
    "line2, = ax.plot(N1, test_A2, label=r'$||A^*||_1=1.1$',color='r', marker='o', markevery=1, linewidth=2, markersize=12)\n",
    "line3, = ax.plot(N1, test_A3, label=r'$||A^*||_1=2.1$',color='b', marker='x', markevery=1, linewidth=2, markersize=12)\n",
    "\n",
    "ax.set(xlabel='Total number of labels', ylabel='test error', title='N with A_1')\n",
    "ax.grid()\n",
    "ax.legend()\n",
    "plt.yscale('log')\n",
    "plt.savefig('N with A_1')\n",
    "plt.show()\n"
   ]
  },
  {
   "cell_type": "code",
   "execution_count": 98,
   "metadata": {},
   "outputs": [
    {
     "name": "stdout",
     "output_type": "stream",
     "text": [
      "[0.27742592 0.01957997 0.00583006 0.00562957]\n"
     ]
    }
   ],
   "source": [
    "print(np.abs(test_A1))"
   ]
  },
  {
   "cell_type": "code",
   "execution_count": 99,
   "metadata": {},
   "outputs": [
    {
     "name": "stdout",
     "output_type": "stream",
     "text": [
      "[0.03080781 0.00666026 0.00015192 0.00014248]\n"
     ]
    }
   ],
   "source": [
    "print(np.abs(test_A2))"
   ]
  },
  {
   "cell_type": "code",
   "execution_count": 100,
   "metadata": {},
   "outputs": [
    {
     "name": "stdout",
     "output_type": "stream",
     "text": [
      "[0.03838862 0.01031488 0.00085093 0.00031878]\n"
     ]
    }
   ],
   "source": [
    "print(np.abs(test_A3))"
   ]
  },
  {
   "cell_type": "code",
   "execution_count": 125,
   "metadata": {},
   "outputs": [
    {
     "data": {
      "image/png": "[encoded data removed]",
      "text/plain": [
       "<Figure size 432x288 with 1 Axes>"
      ]
     },
     "metadata": {
      "needs_background": "light"
     },
     "output_type": "display_data"
    }
   ],
   "source": [
    "import matplotlib.pyplot as plt\n",
    "\n",
    "# 创建数据\n",
    "x = [1, 2, 3, 4, 5]\n",
    "y = [1, 4, 9, 16, 25]\n",
    "\n",
    "# 创建网格图\n",
    "plt.plot(x, y, 'o-')\n",
    "\n",
    "# 设置网格线\n",
    "plt.grid(True)\n",
    "\n",
    "# 添加标题和轴标签\n",
    "plt.title('Grid Plot')\n",
    "plt.xlabel('X-axis')\n",
    "plt.ylabel('Y-axis')\n",
    "\n",
    "# 显示图形\n",
    "plt.show()\n"
   ]
  },
  {
   "cell_type": "code",
   "execution_count": 132,
   "metadata": {},
   "outputs": [
    {
     "data": {
      "image/png": "[encoded data removed]",
      "text/plain": [
       "<Figure size 432x288 with 2 Axes>"
      ]
     },
     "metadata": {
      "needs_background": "light"
     },
     "output_type": "display_data"
    }
   ],
   "source": [
    "import numpy as np\n",
    "import matplotlib.pyplot as plt\n",
    "\n",
    "# 创建数据\n",
    "data = np.array([test_A2,\n",
    "                 test_A3,\n",
    "                 test_A1\n",
    "                 ])\n",
    "\n",
    "# 创建网格图\n",
    "plt.imshow(data, cmap='binary')\n",
    "\n",
    "# 设置网格线\n",
    "plt.grid(True, color='black', linewidth=0.5)\n",
    "\n",
    "# 添加颜色条\n",
    "plt.colorbar()\n",
    "\n",
    "# 显示图形\n",
    "plt.show()\n"
   ]
  },
  {
   "cell_type": "code",
   "execution_count": 129,
   "metadata": {},
   "outputs": [
    {
     "data": {
      "text/plain": [
       "1.4641000000000004"
      ]
     },
     "execution_count": 129,
     "metadata": {},
     "output_type": "execute_result"
    }
   ],
   "source": [
    "1.1**4"
   ]
  },
  {
   "cell_type": "code",
   "execution_count": 130,
   "metadata": {},
   "outputs": [
    {
     "data": {
      "text/plain": [
       "19.448100000000004"
      ]
     },
     "execution_count": 130,
     "metadata": {},
     "output_type": "execute_result"
    }
   ],
   "source": [
    "2.1**4"
   ]
  },
  {
   "cell_type": "code",
   "execution_count": 131,
   "metadata": {},
   "outputs": [
    {
     "data": {
      "text/plain": [
       "33.1776"
      ]
     },
     "execution_count": 131,
     "metadata": {},
     "output_type": "execute_result"
    }
   ],
   "source": [
    "test_A1 = [np.mean(test_error_500_A1[-100:-1]),np.mean(test_error_800_A1[-100:-1]),np.mean(test_error_1000_A1[-100:-1]),test_error_1500_A1[-1],np.mean(test_error_1800_A1[-100:-1])]\n",
    "test_A2 = [np.mean(test_error_500_A2[-100:-1]),np.mean(test_error_800_A2[-100:-1]),np.mean(test_error_1000_A2[-100:-1]),test_error_1500_A2[-1],np.mean(test_error_1800_A2[-1])]\n",
    "test_A3 = [np.mean(test_error_500_A3[-100:-1]),np.mean(test_error_800_A3[-100:-1]),np.mean(test_error_1000_A3[-100:-1]),test_error_1500_A3[-1],np.mean(test_error_1800_A3[-100:-1])]\n"
   ]
  },
  {
   "cell_type": "code",
   "execution_count": 138,
   "metadata": {},
   "outputs": [
    {
     "data": {
      "image/png": "[encoded data removed]",
      "text/plain": [
       "<Figure size 432x288 with 2 Axes>"
      ]
     },
     "metadata": {
      "needs_background": "light"
     },
     "output_type": "display_data"
    }
   ],
   "source": [
    "import numpy as np\n",
    "import matplotlib.pyplot as plt\n",
    "\n",
    "# 创建数据\n",
    "data = np.array([[1, 2, 3, 4, 5],\n",
    "                 [60, 7, 8, 9, 10],\n",
    "                 [11, 12, 13, 14, 15],\n",
    "                 [16, 17, 18, 19, 20],\n",
    "                 [21, 22, 23, 24, 25]])\n",
    "\n",
    "# 创建网格图\n",
    "plt.imshow(data, cmap='binary')\n",
    "\n",
    "# 设置网格线\n",
    "plt.grid(True, color='black', linewidth=0.5)\n",
    "\n",
    "# 添加颜色条\n",
    "plt.colorbar()\n",
    "\n",
    "# 显示图形\n",
    "plt.show()\n"
   ]
  },
  {
   "cell_type": "code",
   "execution_count": 136,
   "metadata": {},
   "outputs": [
    {
     "ename": "AttributeError",
     "evalue": "'list' object has no attribute 'shape'",
     "output_type": "error",
     "traceback": [
      "\u001b[0;31m---------------------------------------------------------------------------\u001b[0m",
      "\u001b[0;31mAttributeError\u001b[0m                            Traceback (most recent call last)",
      "\u001b[0;32m<ipython-input-136-e2eaf9a7b485>\u001b[0m in \u001b[0;36m<module>\u001b[0;34m\u001b[0m\n\u001b[0;32m----> 1\u001b[0;31m \u001b[0mtest_A1\u001b[0m\u001b[0;34m.\u001b[0m\u001b[0mshape\u001b[0m\u001b[0;34m\u001b[0m\u001b[0;34m\u001b[0m\u001b[0m\n\u001b[0m",
      "\u001b[0;31mAttributeError\u001b[0m: 'list' object has no attribute 'shape'"
     ]
    }
   ],
   "source": []
  },
  {
   "cell_type": "code",
   "execution_count": null,
   "metadata": {},
   "outputs": [],
   "source": []
  }
 ],
 "metadata": {
  "kernelspec": {
   "display_name": "base",
   "language": "python",
   "name": "python3"
  },
  "language_info": {
   "codemirror_mode": {
    "name": "ipython",
    "version": 3
   },
   "file_extension": ".py",
   "mimetype": "text/x-python",
   "name": "python",
   "nbconvert_exporter": "python",
   "pygments_lexer": "ipython3",
   "version": "3.7.3"
  },
  "orig_nbformat": 4
 },
 "nbformat": 4,
 "nbformat_minor": 2
}
