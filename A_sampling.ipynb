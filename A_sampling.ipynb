{
 "cells": [
  {
   "cell_type": "code",
   "execution_count": 1,
   "metadata": {},
   "outputs": [],
   "source": [
    "import numpy as np\n",
    "import tensorflow as tf\n",
    "from tensorflow.keras import layers, regularizers, initializers\n",
    "import random\n",
    "import time\n",
    "import matplotlib.pyplot as plt\n",
    "import os\n",
    "os.environ[\"KMP_DUPLICATE_LIB_OK\"]=\"TRUE\""
   ]
  },
  {
   "cell_type": "code",
   "execution_count": 2,
   "metadata": {},
   "outputs": [],
   "source": [
    "N = 1000\n",
    "\n",
    "d = 10\n",
    "P = 10\n",
    "K = 2\n",
    "mu = 0\n",
    "sigma = 1\n",
    "train_size = 800\n",
    "m = 100"
   ]
  },
  {
   "cell_type": "code",
   "execution_count": 3,
   "metadata": {},
   "outputs": [],
   "source": [
    "def generateAdj(N, p1, p2):\n",
    "    adj_matrix = np.eye(N)\n",
    "    for i in range(N-1):\n",
    "        for j in range(N-i-1):\n",
    "            if i < c:\n",
    "                adj_matrix[i,i+j+1] = np.random.binomial(1,p1, 1);\n",
    "            else:\n",
    "                adj_matrix[i, i + j + 1] = np.random.binomial(1, p2, 1);\n",
    "            adj_matrix[i+j+1,i] = adj_matrix[i,i+j+1];\n",
    "    return adj_matrix\n",
    "\n",
    "def l2_loss(logits, labels, mask):\n",
    "    # use l_2 loss (regression loss)\n",
    "    #loss = tf.losses.mean_squared_error (labels, logits)\n",
    "    #loss = tf.nn.l2_loss(labels - logits)\n",
    "    loss = tf.math.square(tf.norm(labels - logits, axis=1, ord=2))/2\n",
    "    # taking mean over the number of traning data\n",
    "    mask = tf.cast(mask, dtype=tf.float32)\n",
    "    mask /= tf.reduce_mean(mask)\n",
    "    loss *= mask\n",
    "    return tf.reduce_mean(loss)\n",
    "c = 100\n",
    "def generateAdj(N, p1, p2):\n",
    "    adj_matrix = np.eye(N)\n",
    "    for i in range(N-1):\n",
    "        for j in range(N-i-1):\n",
    "            if i < c:\n",
    "                adj_matrix[i,i+j+1] = np.random.binomial(1,p1, 1)\n",
    "            else:\n",
    "                adj_matrix[i, i + j + 1] = np.random.binomial(1, p2, 1)\n",
    "            adj_matrix[i+j+1,i] = adj_matrix[i,i+j+1]\n",
    "    return adj_matrix\n",
    "\n",
    "def generate_norm_adj_matrix(adj_matrix):\n",
    "    adj_matrix = adj_matrix.astype('float32')\n",
    "    deg_matrix = tf.reduce_sum(adj_matrix, axis=-1)\n",
    "    deg_group = np.array([tf.reduce_mean(deg_matrix[0:tf.cast(c-1, tf.int32)]), tf.reduce_mean(deg_matrix[tf.cast(N-c, tf.int32): N-1])])\n",
    "    norm_deg_matrix = tf.linalg.diag(1.0 / tf.sqrt(deg_matrix))\n",
    "    norm_adj_matrix = tf.matmul(norm_deg_matrix, tf.matmul(adj_matrix, norm_deg_matrix))\n",
    "    return norm_adj_matrix"
   ]
  },
  {
   "cell_type": "code",
   "execution_count": 4,
   "metadata": {},
   "outputs": [],
   "source": [
    "def generateWeight(mu, sigma, d, P):\n",
    "    # W d*P\n",
    "    return np.random.normal(mu, sigma, (d, P))\n",
    "\n",
    "def generateVeight(mu, sigma, K, P):\n",
    "    # V d*P\n",
    "    return np.random.normal(mu, sigma, (K, P))\n",
    "\n",
    "def generateC(mu, sigma, P, K):\n",
    "    # C P*K\n",
    "    return np.random.normal(mu, sigma, (P, K))\n",
    "\n",
    "def generateX(mu, sigma, N, d):\n",
    "    return np.random.normal(mu, sigma, (N, d))\n",
    "\n",
    "def generate_data(A_star, X, W, V, C, alpha):\n",
    "    # A_star N*N, X N*d, W d*p, V K*p, C p*K,\n",
    "    node_labels = np.matmul(np.multiply(tf.matmul(A_star, tf.matmul(X, W)),\n",
    "                               np.tanh(tf.matmul(A_star, tf.matmul(X, W)))), C)\n",
    "    node_labels_F = np.matmul(tf.matmul(A_star, tf.matmul(X, W)), C) # N*k\n",
    "    # node_labels_G_F = np.matmul(np.sin(tf.matmul(A_star, tf.matmul(node_labels_F, V))), C) #N*k\n",
    "    node_labels_G_F = np.matmul(tf.matmul(A_star, tf.matmul(node_labels_F, V))**5, C) #N*k\n",
    "    node_labels_F = np.matmul(tf.matmul(A_star, tf.matmul(X, W)), C) # N*k\n",
    "    node_labels_G_F = np.matmul(np.multiply(np.sin(tf.matmul(A_star, tf.matmul(node_labels_F, V))),\n",
    "                                               np.tanh(tf.matmul(A_star, tf.matmul(node_labels_F, V)))), C)\n",
    "    node_labels_H = node_labels_F+ alpha * node_labels_G_F\n",
    "    return node_labels_H\n",
    "\n",
    "def createMask(index, N):\n",
    "    mask = np.zeros(N)\n",
    "    for i in index:\n",
    "        mask[i] = 1\n",
    "    return mask"
   ]
  },
  {
   "cell_type": "code",
   "execution_count": 5,
   "metadata": {},
   "outputs": [],
   "source": [
    "learning_rate = 1e-4\n",
    "\n",
    "optimizer = tf.optimizers.Adam(learning_rate)\n",
    "\n",
    "def run_optimization(node_features, node_labels, A_star, test_error):\n",
    "    # Wrap computation inside a GradientTape for automatic differentiation.\n",
    "    index_batch = set(random.sample(train_index, batch_size))\n",
    "    train_mask = createMask(index_batch, N)\n",
    "    # 产生batch数量相对应的mask矩阵\n",
    "    with tf.GradientTape() as t:\n",
    "        # Forward pass.\n",
    "        logits = cora_gnn(node_features, A_star)\n",
    "        # Compute loss.\n",
    "        loss = l2_loss(logits, node_labels, train_mask) #train_mask\n",
    "\n",
    "    # Variables to update, i.e. trainable variables.\n",
    "    variables = t.watched_variables()\n",
    "\n",
    "    # Compute gradients.\n",
    "    gradients = t.gradient(loss, variables)\n",
    "\n",
    "    # Update W and b following gradients.\n",
    "    optimizer.apply_gradients(zip(gradients, variables))\n",
    "    val_mse = l2_loss(logits, node_labels, val_mask)\n",
    "    test_mse = l2_loss(logits, node_labels, test_mask)\n",
    "    test_error.append(test_mse)\n",
    "    if epoch % 500 == 0:\n",
    "        print('Iteration', epoch, '| Training loss:', loss.numpy(), '| Val MSE:'\n",
    "                      , val_mse.numpy(), '| Test MSE', test_mse.numpy())"
   ]
  },
  {
   "cell_type": "code",
   "execution_count": 6,
   "metadata": {},
   "outputs": [],
   "source": [
    "N = 1000\n",
    "m = 100\n",
    "d = 10\n",
    "P = 10\n",
    "K = 2\n",
    "mu = 0\n",
    "sigma = 1\n",
    "\n",
    "W = generateWeight(mu, sigma, d, P)\n",
    "W = W.astype('float32')\n",
    "C = generateC(mu, sigma, P, K)\n",
    "C = C.astype('float32')\n",
    "V = generateVeight(mu, sigma, K, P)\n",
    "V = V.astype('float32')"
   ]
  },
  {
   "cell_type": "code",
   "execution_count": 7,
   "metadata": {},
   "outputs": [
    {
     "name": "stdout",
     "output_type": "stream",
     "text": [
      "1.5996549\n"
     ]
    }
   ],
   "source": [
    "train_size = int(N*0.8)\n",
    "\n",
    "\n",
    "batch_size = 50\n",
    "random.seed(time.time())\n",
    "test_index = set(range(N))\n",
    "train_index = set(random.sample(test_index, train_size))\n",
    "index_batch = set(random.sample(train_index, batch_size))\n",
    "train_mask = createMask(index_batch, N)\n",
    "test_index.difference_update(train_index)\n",
    "\n",
    "\n",
    "val_size = int((N - train_size) / 2)\n",
    "val_index = set(random.sample(test_index, val_size))\n",
    "test_index.difference_update(val_index)\n",
    "\n",
    "val_mask = createMask(val_index, N)\n",
    "test_mask = createMask(test_index, N)\n",
    "node_features = generateX(mu, sigma, N, d)\n",
    "node_features = node_features.astype('float32')\n",
    "X = node_features\n",
    "\n",
    "adj_matrix = generateAdj(N, 0.3, 0.1)\n",
    "norm_adj_matrix = generate_norm_adj_matrix(adj_matrix)\n",
    "A_star = norm_adj_matrix\n",
    "\n",
    "\n",
    "alpha = 5\n",
    "node_labels_100_A1 = generate_data(A_star, X, W, V, C, alpha)\n",
    "\n",
    "colsums = []\n",
    "for i in np.arange(N):\n",
    "    v = np.sum(np.abs(A_star[:, i]))\n",
    "    colsums.append(v)\n",
    "print(np.max(colsums))"
   ]
  },
  {
   "cell_type": "code",
   "execution_count": 8,
   "metadata": {},
   "outputs": [
    {
     "data": {
      "text/plain": [
       "0.84057164"
      ]
     },
     "execution_count": 8,
     "metadata": {},
     "output_type": "execute_result"
    }
   ],
   "source": [
    "# sample=0.1\n",
    "from numpy import linalg as LA\n",
    "aa = tf.random.uniform(shape=[N,N])+tf.eye(N)\n",
    "sample_A1 = (tf.sign(aa-0.1)+1)*0.5\n",
    "LA.norm(A_star-A_star*sample_A1, 'fro')"
   ]
  },
  {
   "cell_type": "code",
   "execution_count": 9,
   "metadata": {},
   "outputs": [
    {
     "name": "stdout",
     "output_type": "stream",
     "text": [
      "Iteration 0 | Training loss: 11.80993 | Val MSE: 14.386673 | Test MSE 14.909024\n",
      "Iteration 500 | Training loss: 10.509012 | Val MSE: 11.022484 | Test MSE 11.649223\n",
      "Iteration 1000 | Training loss: 9.507565 | Val MSE: 7.5687904 | Test MSE 8.302365\n",
      "Iteration 1500 | Training loss: 4.568455 | Val MSE: 6.048555 | Test MSE 6.839249\n",
      "Iteration 2000 | Training loss: 7.060418 | Val MSE: 5.6793523 | Test MSE 6.4664617\n",
      "Iteration 2500 | Training loss: 6.73804 | Val MSE: 5.46504 | Test MSE 6.1742463\n"
     ]
    },
    {
     "data": {
      "image/png": "[encoded data removed]",
      "text/plain": [
       "<Figure size 432x288 with 1 Axes>"
      ]
     },
     "metadata": {
      "needs_background": "light"
     },
     "output_type": "display_data"
    }
   ],
   "source": [
    "m = 20\n",
    "hidden_units_1 = m\n",
    "hidden_units_2 = m\n",
    "\n",
    "layer_1 = tf.keras.layers.Dense(units=hidden_units_1, kernel_initializer=initializers.glorot_normal())\n",
    "layer_2 = tf.keras.layers.Dense(units=hidden_units_2, kernel_initializer=initializers.glorot_normal())# hidden layer: apply weights\n",
    "out = layers.Dense(K, kernel_initializer=initializers.random_normal(mean=0.0,stddev=1)\n",
    "                       ,kernel_regularizer=None)  # K (2) classes for nodes\n",
    "\n",
    "def gnn(node_features, adj_matrix, transform, activation):\n",
    "    # weight first, then aggregate neighbor features\n",
    "    #weighted_features = transform(node_features) # apply weights to node features\n",
    "    #aggregated_features = tf.matmul(adj_matrix, weighted_features) # aggregated neighbor node features\n",
    "    #return activation(aggregated_features) # apply activation function\n",
    "    # aggregate neighbor features first, then weight\n",
    "    aggregated_features = tf.matmul(adj_matrix, tf.cast(node_features, dtype=tf.float32)) # aggregated neighbor node features\n",
    "    weighted_features = transform(aggregated_features) # apply weights to node features\n",
    "    return activation(weighted_features) # apply activation function\n",
    "\n",
    "def cora_gnn(node_features, adj_matrix):\n",
    "    hidden_1 = gnn(node_features, sample_A1 * adj_matrix, layer_1, tf.nn.relu)\n",
    "    hidden_2 = gnn(hidden_1, adj_matrix, layer_2, tf.nn.relu)\n",
    "    # hidden_2 = layers.Dropout(rate=0.4)(hidden_2)\n",
    "    # logits = gnn(hidden, adj_matrix, layer_2, tf.identity)\n",
    "    added12 = tf.keras.layers.Add()([hidden_1, hidden_2])\n",
    "    logits = tf.identity(out(added12))\n",
    "    # logits = tf.identity(out(hidden_2))\n",
    "    return logits\n",
    "\n",
    "learning_rate = 1\n",
    "test_error_100_A1 = []\n",
    "epochs = 3000\n",
    "for epoch in range(epochs):\n",
    "    run_optimization(node_features, node_labels_100_A1, A_star, test_error_100_A1)\n",
    "    if epoch % 500 == 0:\n",
    "        learning_rate = learning_rate * 0.9\n",
    "fig, ax = plt.subplots()\n",
    "line1, = ax.plot(np.log10(test_error_100_A1), label='test_error_100_A1')"
   ]
  },
  {
   "cell_type": "code",
   "execution_count": 38,
   "metadata": {},
   "outputs": [
    {
     "name": "stdout",
     "output_type": "stream",
     "text": [
      "Iteration 0 | Training loss: 1.7301252 | Val MSE: 1.335276 | Test MSE 1.5667806\n",
      "Iteration 500 | Training loss: 0.14130217 | Val MSE: 0.13242304 | Test MSE 0.16620216\n",
      "Iteration 1000 | Training loss: 0.05394762 | Val MSE: 0.0760299 | Test MSE 0.09461194\n",
      "Iteration 1500 | Training loss: 0.059784003 | Val MSE: 0.05097034 | Test MSE 0.060588885\n",
      "Iteration 2000 | Training loss: 0.032345276 | Val MSE: 0.036408488 | Test MSE 0.039645243\n",
      "Iteration 2500 | Training loss: 0.028287878 | Val MSE: 0.029584205 | Test MSE 0.030149441\n"
     ]
    },
    {
     "data": {
      "image/png": "[encoded data removed]",
      "text/plain": [
       "<Figure size 432x288 with 1 Axes>"
      ]
     },
     "metadata": {
      "needs_background": "light"
     },
     "output_type": "display_data"
    }
   ],
   "source": [
    "hidden_units_1 = m\n",
    "hidden_units_2 = m\n",
    "aa = tf.random.uniform(shape=[N,N])+tf.eye(N)\n",
    "sample_A1 = (tf.sign(aa-0.1)+1)*0.5\n",
    "\n",
    "layer_1 = tf.keras.layers.Dense(units=hidden_units_1, kernel_initializer=initializers.glorot_normal())\n",
    "layer_2 = tf.keras.layers.Dense(units=hidden_units_2, kernel_initializer=initializers.glorot_normal())# hidden layer: apply weights\n",
    "out = layers.Dense(K, kernel_initializer=initializers.random_normal(mean=0.0,stddev=1)\n",
    "                       ,kernel_regularizer=None)  # K (2) classes for nodes\n",
    "\n",
    "def gnn(node_features, adj_matrix, transform, activation):\n",
    "    # weight first, then aggregate neighbor features\n",
    "    #weighted_features = transform(node_features) # apply weights to node features\n",
    "    #aggregated_features = tf.matmul(adj_matrix, weighted_features) # aggregated neighbor node features\n",
    "    #return activation(aggregated_features) # apply activation function\n",
    "    # aggregate neighbor features first, then weight\n",
    "    aggregated_features = tf.matmul(adj_matrix, tf.cast(node_features, dtype=tf.float32)) # aggregated neighbor node features\n",
    "    weighted_features = transform(aggregated_features) # apply weights to node features\n",
    "    return activation(weighted_features) # apply activation function\n",
    "\n",
    "def cora_gnn(node_features, adj_matrix):\n",
    "    hidden_1 = gnn(node_features, adj_matrix, layer_1, tf.nn.relu)\n",
    "    hidden_2 = gnn(hidden_1, sample_A1 * adj_matrix, layer_2, tf.nn.relu)\n",
    "    # hidden_2 = layers.Dropout(rate=0.4)(hidden_2)\n",
    "    # logits = gnn(hidden, adj_matrix, layer_2, tf.identity)\n",
    "    added12 = tf.keras.layers.Add()([hidden_1, hidden_2])\n",
    "    logits = tf.identity(out(added12))\n",
    "    # logits = tf.identity(out(hidden_2))\n",
    "    return logits\n",
    "\n",
    "learning_rate = 1\n",
    "test_error_100_A2 = []\n",
    "epochs = 3000\n",
    "for epoch in range(epochs):\n",
    "    run_optimization(node_features, node_labels_100_A1, A_star, test_error_100_A2)\n",
    "    if epoch % 500 == 0:\n",
    "        learning_rate = learning_rate * 0.9\n",
    "fig, ax = plt.subplots()\n",
    "line1, = ax.plot(np.log10(test_error_100_A2), label='test_error_100_A2')"
   ]
  },
  {
   "cell_type": "code",
   "execution_count": 39,
   "metadata": {},
   "outputs": [
    {
     "data": {
      "text/plain": [
       "1.1902745"
      ]
     },
     "execution_count": 39,
     "metadata": {},
     "output_type": "execute_result"
    }
   ],
   "source": [
    "# sample=0.2\n",
    "sample_A2 = (tf.sign(aa-0.2)+1)*0.5\n",
    "LA.norm(A_star-A_star*sample_A2, 'fro')"
   ]
  },
  {
   "cell_type": "code",
   "execution_count": 40,
   "metadata": {},
   "outputs": [
    {
     "name": "stdout",
     "output_type": "stream",
     "text": [
      "Iteration 0 | Training loss: 1.3638452 | Val MSE: 1.3213466 | Test MSE 1.4555192\n",
      "Iteration 500 | Training loss: 0.24538177 | Val MSE: 0.25400123 | Test MSE 0.2824425\n",
      "Iteration 1000 | Training loss: 0.294599 | Val MSE: 0.20266445 | Test MSE 0.22086413\n",
      "Iteration 1500 | Training loss: 0.15175104 | Val MSE: 0.17811818 | Test MSE 0.1884194\n",
      "Iteration 2000 | Training loss: 0.16471869 | Val MSE: 0.16795754 | Test MSE 0.1696932\n",
      "Iteration 2500 | Training loss: 0.16926898 | Val MSE: 0.1485724 | Test MSE 0.15992908\n"
     ]
    },
    {
     "data": {
      "image/png": "[encoded data removed]",
      "text/plain": [
       "<Figure size 432x288 with 1 Axes>"
      ]
     },
     "metadata": {
      "needs_background": "light"
     },
     "output_type": "display_data"
    }
   ],
   "source": [
    "hidden_units_1 = m\n",
    "hidden_units_2 = m\n",
    "\n",
    "layer_1 = tf.keras.layers.Dense(units=hidden_units_1, kernel_initializer=initializers.glorot_normal())\n",
    "layer_2 = tf.keras.layers.Dense(units=hidden_units_2, kernel_initializer=initializers.glorot_normal())# hidden layer: apply weights\n",
    "out = layers.Dense(K, kernel_initializer=initializers.random_normal(mean=0.0,stddev=1)\n",
    "                       ,kernel_regularizer=None)  # K (2) classes for nodes\n",
    "\n",
    "def gnn(node_features, adj_matrix, transform, activation):\n",
    "    # weight first, then aggregate neighbor features\n",
    "    #weighted_features = transform(node_features) # apply weights to node features\n",
    "    #aggregated_features = tf.matmul(adj_matrix, weighted_features) # aggregated neighbor node features\n",
    "    #return activation(aggregated_features) # apply activation function\n",
    "    # aggregate neighbor features first, then weight\n",
    "    aggregated_features = tf.matmul(adj_matrix, tf.cast(node_features, dtype=tf.float32)) # aggregated neighbor node features\n",
    "    weighted_features = transform(aggregated_features) # apply weights to node features\n",
    "    return activation(weighted_features) # apply activation function\n",
    "\n",
    "def cora_gnn(node_features, adj_matrix):\n",
    "    hidden_1 = gnn(node_features, sample_A2 * adj_matrix, layer_1, tf.nn.relu)\n",
    "    hidden_2 = gnn(hidden_1, adj_matrix, layer_2, tf.nn.relu)\n",
    "    # hidden_2 = layers.Dropout(rate=0.4)(hidden_2)\n",
    "    # logits = gnn(hidden, adj_matrix, layer_2, tf.identity)\n",
    "    added12 = tf.keras.layers.Add()([hidden_1, hidden_2])\n",
    "    logits = tf.identity(out(added12))\n",
    "    # logits = tf.identity(out(hidden_2))\n",
    "    return logits\n",
    "\n",
    "learning_rate = 1\n",
    "test_error_200_A1 = []\n",
    "epochs = 3000\n",
    "for epoch in range(epochs):\n",
    "    run_optimization(node_features, node_labels_100_A1, A_star, test_error_200_A1)\n",
    "    if epoch % 500 == 0:\n",
    "        learning_rate = learning_rate * 0.9\n",
    "fig, ax = plt.subplots()\n",
    "line1, = ax.plot(np.log10(test_error_200_A1), label='test_error_200_A1')"
   ]
  },
  {
   "cell_type": "code",
   "execution_count": 41,
   "metadata": {},
   "outputs": [
    {
     "name": "stdout",
     "output_type": "stream",
     "text": [
      "Iteration 0 | Training loss: 1.6793185 | Val MSE: 1.7557795 | Test MSE 2.019615\n",
      "Iteration 500 | Training loss: 0.084390916 | Val MSE: 0.15262222 | Test MSE 0.1862312\n",
      "Iteration 1000 | Training loss: 0.1088206 | Val MSE: 0.10364024 | Test MSE 0.12319681\n",
      "Iteration 1500 | Training loss: 0.11437859 | Val MSE: 0.075311124 | Test MSE 0.09155859\n",
      "Iteration 2000 | Training loss: 0.04121597 | Val MSE: 0.055948604 | Test MSE 0.06426779\n",
      "Iteration 2500 | Training loss: 0.028840754 | Val MSE: 0.042210907 | Test MSE 0.049903233\n"
     ]
    },
    {
     "data": {
      "image/png": "[encoded data removed]",
      "text/plain": [
       "<Figure size 432x288 with 1 Axes>"
      ]
     },
     "metadata": {
      "needs_background": "light"
     },
     "output_type": "display_data"
    }
   ],
   "source": [
    "hidden_units_1 = m\n",
    "hidden_units_2 = m\n",
    "\n",
    "layer_1 = tf.keras.layers.Dense(units=hidden_units_1, kernel_initializer=initializers.glorot_normal())\n",
    "layer_2 = tf.keras.layers.Dense(units=hidden_units_2, kernel_initializer=initializers.glorot_normal())# hidden layer: apply weights\n",
    "out = layers.Dense(K, kernel_initializer=initializers.random_normal(mean=0.0,stddev=1)\n",
    "                       ,kernel_regularizer=None)  # K (2) classes for nodes\n",
    "\n",
    "def gnn(node_features, adj_matrix, transform, activation):\n",
    "    # weight first, then aggregate neighbor features\n",
    "    #weighted_features = transform(node_features) # apply weights to node features\n",
    "    #aggregated_features = tf.matmul(adj_matrix, weighted_features) # aggregated neighbor node features\n",
    "    #return activation(aggregated_features) # apply activation function\n",
    "    # aggregate neighbor features first, then weight\n",
    "    aggregated_features = tf.matmul(adj_matrix, tf.cast(node_features, dtype=tf.float32)) # aggregated neighbor node features\n",
    "    weighted_features = transform(aggregated_features) # apply weights to node features\n",
    "    return activation(weighted_features) # apply activation function\n",
    "\n",
    "def cora_gnn(node_features, adj_matrix):\n",
    "    hidden_1 = gnn(node_features,  adj_matrix, layer_1, tf.nn.relu)\n",
    "    hidden_2 = gnn(hidden_1, sample_A2 * adj_matrix, layer_2, tf.nn.relu)\n",
    "    # hidden_2 = layers.Dropout(rate=0.4)(hidden_2)\n",
    "    # logits = gnn(hidden, adj_matrix, layer_2, tf.identity)\n",
    "    added12 = tf.keras.layers.Add()([hidden_1, hidden_2])\n",
    "    logits = tf.identity(out(added12))\n",
    "    # logits = tf.identity(out(hidden_2))\n",
    "    return logits\n",
    "\n",
    "learning_rate = 1\n",
    "test_error_200_A2 = []\n",
    "epochs = 3000\n",
    "for epoch in range(epochs):\n",
    "    run_optimization(node_features, node_labels_100_A1, A_star, test_error_200_A2)\n",
    "    if epoch % 500 == 0:\n",
    "        learning_rate = learning_rate * 0.9\n",
    "fig, ax = plt.subplots()\n",
    "line1, = ax.plot(np.log10(test_error_200_A2), label='test_error_200_A2')"
   ]
  },
  {
   "cell_type": "code",
   "execution_count": null,
   "metadata": {},
   "outputs": [],
   "source": []
  },
  {
   "cell_type": "code",
   "execution_count": 42,
   "metadata": {},
   "outputs": [
    {
     "data": {
      "text/plain": [
       "1.8766159"
      ]
     },
     "execution_count": 42,
     "metadata": {},
     "output_type": "execute_result"
    }
   ],
   "source": [
    "# sample=0.5\n",
    "sample_A5 = (tf.sign(aa-0.5)+1)*0.5\n",
    "LA.norm(A_star-A_star*sample_A5, 'fro')"
   ]
  },
  {
   "cell_type": "code",
   "execution_count": 43,
   "metadata": {},
   "outputs": [
    {
     "name": "stdout",
     "output_type": "stream",
     "text": [
      "Iteration 0 | Training loss: 1.5805815 | Val MSE: 1.5975933 | Test MSE 1.8333218\n",
      "Iteration 500 | Training loss: 0.5587858 | Val MSE: 0.49417946 | Test MSE 0.52474856\n",
      "Iteration 1000 | Training loss: 0.42808357 | Val MSE: 0.45375323 | Test MSE 0.46943584\n",
      "Iteration 1500 | Training loss: 0.41948345 | Val MSE: 0.4429018 | Test MSE 0.45767018\n",
      "Iteration 2000 | Training loss: 0.37277523 | Val MSE: 0.43175563 | Test MSE 0.44914636\n",
      "Iteration 2500 | Training loss: 0.53162134 | Val MSE: 0.4235204 | Test MSE 0.43387815\n"
     ]
    },
    {
     "data": {
      "image/png": "[encoded data removed]",
      "text/plain": [
       "<Figure size 432x288 with 1 Axes>"
      ]
     },
     "metadata": {
      "needs_background": "light"
     },
     "output_type": "display_data"
    }
   ],
   "source": [
    "hidden_units_1 = m\n",
    "hidden_units_2 = m\n",
    "\n",
    "layer_1 = tf.keras.layers.Dense(units=hidden_units_1, kernel_initializer=initializers.glorot_normal())\n",
    "layer_2 = tf.keras.layers.Dense(units=hidden_units_2, kernel_initializer=initializers.glorot_normal())# hidden layer: apply weights\n",
    "out = layers.Dense(K, kernel_initializer=initializers.random_normal(mean=0.0,stddev=1)\n",
    "                       ,kernel_regularizer=None)  # K (2) classes for nodes\n",
    "\n",
    "def gnn(node_features, adj_matrix, transform, activation):\n",
    "    # weight first, then aggregate neighbor features\n",
    "    #weighted_features = transform(node_features) # apply weights to node features\n",
    "    #aggregated_features = tf.matmul(adj_matrix, weighted_features) # aggregated neighbor node features\n",
    "    #return activation(aggregated_features) # apply activation function\n",
    "    # aggregate neighbor features first, then weight\n",
    "    aggregated_features = tf.matmul(adj_matrix, tf.cast(node_features, dtype=tf.float32)) # aggregated neighbor node features\n",
    "    weighted_features = transform(aggregated_features) # apply weights to node features\n",
    "    return activation(weighted_features) # apply activation function\n",
    "\n",
    "def cora_gnn(node_features, adj_matrix):\n",
    "    hidden_1 = gnn(node_features, sample_A5 * adj_matrix, layer_1, tf.nn.relu)\n",
    "    hidden_2 = gnn(hidden_1, adj_matrix, layer_2, tf.nn.relu)\n",
    "    # hidden_2 = layers.Dropout(rate=0.4)(hidden_2)\n",
    "    # logits = gnn(hidden, adj_matrix, layer_2, tf.identity)\n",
    "    added12 = tf.keras.layers.Add()([hidden_1, hidden_2])\n",
    "    logits = tf.identity(out(added12))\n",
    "    # logits = tf.identity(out(hidden_2))\n",
    "    return logits\n",
    "\n",
    "learning_rate = 1\n",
    "test_error_500_A1 = []\n",
    "epochs = 3000\n",
    "for epoch in range(epochs):\n",
    "    run_optimization(node_features, node_labels_100_A1, A_star, test_error_500_A1)\n",
    "    if epoch % 500 == 0:\n",
    "        learning_rate = learning_rate * 0.9\n",
    "fig, ax = plt.subplots()\n",
    "line1, = ax.plot(np.log10(test_error_500_A1), label='test_error_200_A1')"
   ]
  },
  {
   "cell_type": "code",
   "execution_count": null,
   "metadata": {},
   "outputs": [],
   "source": []
  },
  {
   "cell_type": "code",
   "execution_count": 44,
   "metadata": {},
   "outputs": [
    {
     "name": "stdout",
     "output_type": "stream",
     "text": [
      "Iteration 0 | Training loss: 1.6917028 | Val MSE: 1.8973093 | Test MSE 2.156398\n",
      "Iteration 500 | Training loss: 0.17161155 | Val MSE: 0.17557134 | Test MSE 0.20783637\n",
      "Iteration 1000 | Training loss: 0.1499097 | Val MSE: 0.14267771 | Test MSE 0.16563278\n",
      "Iteration 1500 | Training loss: 0.120484576 | Val MSE: 0.12980771 | Test MSE 0.15045004\n",
      "Iteration 2000 | Training loss: 0.15477112 | Val MSE: 0.119163774 | Test MSE 0.13577448\n",
      "Iteration 2500 | Training loss: 0.07439671 | Val MSE: 0.10960035 | Test MSE 0.12209027\n"
     ]
    },
    {
     "data": {
      "image/png": "[encoded data removed]",
      "text/plain": [
       "<Figure size 432x288 with 1 Axes>"
      ]
     },
     "metadata": {
      "needs_background": "light"
     },
     "output_type": "display_data"
    }
   ],
   "source": [
    "hidden_units_1 = m\n",
    "hidden_units_2 = m\n",
    "\n",
    "layer_1 = tf.keras.layers.Dense(units=hidden_units_1, kernel_initializer=initializers.glorot_normal())\n",
    "layer_2 = tf.keras.layers.Dense(units=hidden_units_2, kernel_initializer=initializers.glorot_normal())# hidden layer: apply weights\n",
    "out = layers.Dense(K, kernel_initializer=initializers.random_normal(mean=0.0,stddev=1)\n",
    "                       ,kernel_regularizer=None)  # K (2) classes for nodes\n",
    "\n",
    "def gnn(node_features, adj_matrix, transform, activation):\n",
    "    # weight first, then aggregate neighbor features\n",
    "    #weighted_features = transform(node_features) # apply weights to node features\n",
    "    #aggregated_features = tf.matmul(adj_matrix, weighted_features) # aggregated neighbor node features\n",
    "    #return activation(aggregated_features) # apply activation function\n",
    "    # aggregate neighbor features first, then weight\n",
    "    aggregated_features = tf.matmul(adj_matrix, tf.cast(node_features, dtype=tf.float32)) # aggregated neighbor node features\n",
    "    weighted_features = transform(aggregated_features) # apply weights to node features\n",
    "    return activation(weighted_features) # apply activation function\n",
    "\n",
    "def cora_gnn(node_features, adj_matrix):\n",
    "    hidden_1 = gnn(node_features, adj_matrix, layer_1, tf.nn.relu)\n",
    "    hidden_2 = gnn(hidden_1, sample_A5 * adj_matrix, layer_2, tf.nn.relu)\n",
    "    # hidden_2 = layers.Dropout(rate=0.4)(hidden_2)\n",
    "    # logits = gnn(hidden, adj_matrix, layer_2, tf.identity)\n",
    "    added12 = tf.keras.layers.Add()([hidden_1, hidden_2])\n",
    "    logits = tf.identity(out(added12))\n",
    "    # logits = tf.identity(out(hidden_2))\n",
    "    return logits\n",
    "\n",
    "learning_rate = 1\n",
    "test_error_500_A2 = []\n",
    "epochs = 3000\n",
    "for epoch in range(epochs):\n",
    "    run_optimization(node_features, node_labels_100_A1, A_star, test_error_500_A2)\n",
    "    if epoch % 500 == 0:\n",
    "        learning_rate = learning_rate * 0.9\n",
    "fig, ax = plt.subplots()\n",
    "line1, = ax.plot(np.log10(test_error_500_A2), label='test_error_500_A2')"
   ]
  },
  {
   "cell_type": "code",
   "execution_count": 50,
   "metadata": {},
   "outputs": [
    {
     "name": "stdout",
     "output_type": "stream",
     "text": [
      "Iteration 0 | Training loss: 1.329969 | Val MSE: 1.462199 | Test MSE 1.6402075\n",
      "Iteration 500 | Training loss: 0.11447981 | Val MSE: 0.12754266 | Test MSE 0.14788757\n",
      "Iteration 1000 | Training loss: 0.07016379 | Val MSE: 0.060343668 | Test MSE 0.0754738\n",
      "Iteration 1500 | Training loss: 0.03954425 | Val MSE: 0.03223984 | Test MSE 0.04084973\n"
     ]
    }
   ],
   "source": [
    "hidden_units_1 = m\n",
    "hidden_units_2 = m\n",
    "\n",
    "layer_1 = tf.keras.layers.Dense(units=hidden_units_1, kernel_initializer=initializers.glorot_normal())\n",
    "layer_2 = tf.keras.layers.Dense(units=hidden_units_2, kernel_initializer=initializers.glorot_normal())# hidden layer: apply weights\n",
    "out = layers.Dense(K, kernel_initializer=initializers.random_normal(mean=0.0,stddev=1)\n",
    "                       ,kernel_regularizer=None)  # K (2) classes for nodes\n",
    "\n",
    "def gnn(node_features, adj_matrix, transform, activation):\n",
    "    # weight first, then aggregate neighbor features\n",
    "    #weighted_features = transform(node_features) # apply weights to node features\n",
    "    #aggregated_features = tf.matmul(adj_matrix, weighted_features) # aggregated neighbor node features\n",
    "    #return activation(aggregated_features) # apply activation function\n",
    "    # aggregate neighbor features first, then weight\n",
    "    aggregated_features = tf.matmul(adj_matrix, tf.cast(node_features, dtype=tf.float32)) # aggregated neighbor node features\n",
    "    weighted_features = transform(aggregated_features) # apply weights to node features\n",
    "    return activation(weighted_features) # apply activation function\n",
    "\n",
    "def cora_gnn(node_features, adj_matrix):\n",
    "    hidden_1 = gnn(node_features, adj_matrix, layer_1, tf.nn.relu)\n",
    "    hidden_2 = gnn(hidden_1, adj_matrix, layer_2, tf.nn.relu)\n",
    "    # hidden_2 = layers.Dropout(rate=0.4)(hidden_2)\n",
    "    # logits = gnn(hidden, adj_matrix, layer_2, tf.identity)\n",
    "    added12 = tf.keras.layers.Add()([hidden_1, hidden_2])\n",
    "    logits = tf.identity(out(added12))\n",
    "    # logits = tf.identity(out(hidden_2))\n",
    "    return logits\n",
    "\n",
    "learning_rate = 1\n",
    "test_error_A0 = []\n",
    "epochs = 3000\n",
    "for epoch in range(epochs):\n",
    "    run_optimization(node_features, node_labels_100_A1, A_star, test_error_A0)\n",
    "    if epoch % 500 == 0:\n",
    "        learning_rate = learning_rate * 0.9\n",
    "fig, ax = plt.subplots()\n",
    "line1, = ax.plot(np.log10(test_error_A0), label='test_error_500_A2')"
   ]
  },
  {
   "cell_type": "code",
   "execution_count": null,
   "metadata": {},
   "outputs": [],
   "source": []
  },
  {
   "cell_type": "code",
   "execution_count": null,
   "metadata": {},
   "outputs": [],
   "source": []
  },
  {
   "cell_type": "code",
   "execution_count": null,
   "metadata": {},
   "outputs": [],
   "source": []
  },
  {
   "cell_type": "code",
   "execution_count": 49,
   "metadata": {},
   "outputs": [
    {
     "data": {
      "image/png": "[encoded data removed]",
      "text/plain": [
       "<Figure size 432x288 with 1 Axes>"
      ]
     },
     "metadata": {
      "needs_background": "light"
     },
     "output_type": "display_data"
    }
   ],
   "source": [
    "N1 = [0.0, LA.norm(A_star-A_star*sample_A1, np.inf), LA.norm(A_star-A_star*sample_A2, np.inf), LA.norm(A_star-A_star*sample_A5, np.inf)]\n",
    "# test_A1 = [np.mean(test_error_500_A1[-100:-1]),np.mean(test_error_800_A1[-100:-1]),np.mean(test_error_1000_A1[-100:-1]),test_error_1500_A1[-1],np.mean(test_error_1800_A1[-100:-1])]\n",
    "# test_A2 = [np.mean(test_error_500_A2[-100:-1]),np.mean(test_error_800_A2[-100:-1]),np.mean(test_error_1000_A2[-100:-1]),test_error_1500_A2[-1],np.mean(test_error_1800_A2[-1])]\n",
    "# test_A3 = [np.mean(test_error_500_A3[-100:-1]),np.mean(test_error_800_A3[-100:-1]),np.mean(test_error_1000_A3[-100:-1]),test_error_1500_A3[-1],np.mean(test_error_1800_A3[-100:-1])]\n",
    "test_A1_alpha5 = [np.mean(test_error_A0[-100:-1]), np.mean(test_error_100_A1[-100:-1]), np.mean(test_error_200_A1[-100:-1]), np.mean(test_error_500_A1[-100:-1])]\n",
    "test_A2_alpha5 = [np.mean(test_error_A0[-100:-1]), np.mean(test_error_100_A2[-100:-1]), np.mean(test_error_200_A2[-100:-1]), np.mean(test_error_500_A2[-100:-1])]\n",
    "fig, ax = plt.subplots()\n",
    "\n",
    "line1, = ax.plot(N1, test_A1_alpha5, label=r'$\\alpha=5 ||A_1 - A^*||_1$',color='g', marker='o', markevery=1, linewidth=2, markersize=12)\n",
    "line2, = ax.plot(N1, test_A2_alpha5, label=r'$\\alpha=5 ||A_2 - A^*||_1$',color='g', marker='o', markevery=1, linewidth=2, markersize=12)\n",
    "line3, = ax.plot(N1, test_A1_alpha1, label=r'$\\alpha=1 ||A_1 - A^*||_1$',color='r', marker='x', markevery=1, linewidth=2, markersize=12)\n",
    "line4, = ax.plot(N1, test_A2_alpha1, label=r'$\\alpha=1 ||A_2 - A^*||_1$',color='r', marker='x', markevery=1, linewidth=2, markersize=12)\n",
    "\n",
    "\n",
    "\n",
    "ax.set(xlabel='Total number of labels', ylabel='test error', title='N with A_1')\n",
    "ax.grid()\n",
    "ax.legend()\n",
    "plt.yscale('log')\n",
    "plt.savefig('N with A_1')\n",
    "plt.show()\n"
   ]
  },
  {
   "cell_type": "code",
   "execution_count": null,
   "metadata": {},
   "outputs": [],
   "source": []
  },
  {
   "cell_type": "code",
   "execution_count": null,
   "metadata": {},
   "outputs": [],
   "source": [
    "c=100\n",
    "p1 = 0.05\n",
    "p2 = 0.1\n",
    "d1 = N*p1\n",
    "d2 = N*p2\n",
    "adj_matrix = generateAdj(N, 0.1, 0.05)\n",
    "norm_adj_matrix = generate_norm_adj_matrix(adj_matrix)"
   ]
  },
  {
   "cell_type": "code",
   "execution_count": null,
   "metadata": {},
   "outputs": [],
   "source": [
    "k = int(d1*(d2/d1)**0.5)\n",
    "x = norm_adj_matrix[0:100, 0:100]\n",
    "values, indices = tf.nn.top_k(x, k)\n"
   ]
  },
  {
   "cell_type": "code",
   "execution_count": null,
   "metadata": {},
   "outputs": [],
   "source": [
    "my_range = tf.expand_dims(tf.range(0, indices.get_shape()[0]), 1)  # will be [[0], [1]]\n",
    "my_range_repeated = tf.tile(my_range, [1, k])  # will be [[0, 0], [1, 1]]\n",
    "\n",
    "# change shapes to [N, k, 1] and [N, k, 1], to concatenate into [N, k, 2]\n",
    "full_indices = tf.concat([tf.expand_dims(my_range_repeated, 2), tf.expand_dims(indices, 2)], axis=2)\n",
    "full_indices = tf.reshape(full_indices, [-1, 2])\n",
    "mask = np.zeros([900,900])\n",
    "for i in range(full_indices.shape[0]):\n",
    "    mask[full_indices[i,:]]=1\n",
    "y = tf.convert_to_tensor(mask, dtype=tf.float32)\n",
    "tf.math.multiply(norm_adj_matrix[0:900, 0:900],y)\n"
   ]
  },
  {
   "cell_type": "code",
   "execution_count": null,
   "metadata": {},
   "outputs": [],
   "source": [
    "tf.tensordot(values[:,-1], tf.ones(900), axes=0)\n",
    "x"
   ]
  },
  {
   "cell_type": "code",
   "execution_count": null,
   "metadata": {},
   "outputs": [],
   "source": [
    "aa = 0.5*(1+ tf.sign(x-tf.tensordot(values[:,-1], tf.ones(c), axes=0)) )*x\n",
    "aa"
   ]
  },
  {
   "cell_type": "code",
   "execution_count": null,
   "metadata": {},
   "outputs": [],
   "source": [
    "c = 2\n",
    "adj_matrix = generateAdj(5, 1, 0.01)\n",
    "norm_adj_matrix = generate_norm_adj_matrix(adj_matrix)\n",
    "norm_adj_matrix"
   ]
  },
  {
   "cell_type": "code",
   "execution_count": null,
   "metadata": {},
   "outputs": [],
   "source": [
    "sum(tf.sign(x[:,-1]))"
   ]
  },
  {
   "cell_type": "code",
   "execution_count": null,
   "metadata": {},
   "outputs": [],
   "source": [
    "x = tf.constant([[6., 2., 0.], [0., 4., 5.],[10., 4., 5.]])  # of type tf.float32\n",
    "\n",
    "k = 2\n",
    "values, indices = tf.nn.top_k(x, k, sorted=False)  # indices will be [[0, 1], [1, 2]], values will be [[6., 2.], [4., 5.]]\n",
    "\n",
    "# We need to create full indices like [[0, 0], [0, 1], [1, 2], [1, 1]]\n",
    "my_range = tf.expand_dims(tf.range(0, indices.get_shape()[0]), 1)  # will be [[0], [1]]\n",
    "my_range_repeated = tf.tile(my_range, [1, k])  # will be [[0, 0], [1, 1]]\n",
    "\n",
    "# change shapes to [N, k, 1] and [N, k, 1], to concatenate into [N, k, 2]\n",
    "full_indices = tf.concat([tf.expand_dims(my_range_repeated, 2), tf.expand_dims(indices, 2)], axis=2)\n",
    "full_indices = tf.reshape(full_indices, [-1, 2])\n",
    "\n",
    "# to_substract = tf.sparse.to_dense(full_indices, x.get_shape(), tf.reshape(values, [-1]), default_value=0.)\n",
    "\n",
    "# res = x - to_substract"
   ]
  },
  {
   "cell_type": "code",
   "execution_count": null,
   "metadata": {},
   "outputs": [],
   "source": [
    "indices"
   ]
  },
  {
   "cell_type": "code",
   "execution_count": null,
   "metadata": {},
   "outputs": [],
   "source": [
    "full_indices"
   ]
  },
  {
   "cell_type": "code",
   "execution_count": null,
   "metadata": {},
   "outputs": [],
   "source": [
    "full_indices[0,:]"
   ]
  },
  {
   "cell_type": "code",
   "execution_count": null,
   "metadata": {},
   "outputs": [],
   "source": [
    "mask = np.zeros([3,3])"
   ]
  },
  {
   "cell_type": "code",
   "execution_count": null,
   "metadata": {},
   "outputs": [],
   "source": [
    "for i in range(6):\n",
    "    mask[full_indices[i,:]]=1"
   ]
  },
  {
   "cell_type": "code",
   "execution_count": null,
   "metadata": {},
   "outputs": [],
   "source": [
    "mask"
   ]
  },
  {
   "cell_type": "code",
   "execution_count": null,
   "metadata": {},
   "outputs": [],
   "source": [
    "np.multiply(x, mask)"
   ]
  },
  {
   "cell_type": "code",
   "execution_count": null,
   "metadata": {},
   "outputs": [],
   "source": [
    "full_indices.shape[0]"
   ]
  },
  {
   "cell_type": "code",
   "execution_count": null,
   "metadata": {},
   "outputs": [],
   "source": [
    "y = tf.convert_to_tensor(mask, dtype=tf.float32)"
   ]
  },
  {
   "cell_type": "code",
   "execution_count": null,
   "metadata": {},
   "outputs": [],
   "source": [
    "y = tf.convert_to_tensor(mask, dtype=tf.float32)\n",
    "tf.math.multiply(x,y)"
   ]
  },
  {
   "cell_type": "code",
   "execution_count": null,
   "metadata": {},
   "outputs": [],
   "source": []
  }
 ],
 "metadata": {
  "kernelspec": {
   "display_name": "base",
   "language": "python",
   "name": "python3"
  },
  "language_info": {
   "codemirror_mode": {
    "name": "ipython",
    "version": 3
   },
   "file_extension": ".py",
   "mimetype": "text/x-python",
   "name": "python",
   "nbconvert_exporter": "python",
   "pygments_lexer": "ipython3",
   "version": "3.7.3"
  },
  "orig_nbformat": 4
 },
 "nbformat": 4,
 "nbformat_minor": 2
}
